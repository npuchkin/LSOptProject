{
 "cells": [
  {
   "cell_type": "markdown",
   "metadata": {},
   "source": [
    "## M. Danilova, N. Puchkin, A. Shilova\n",
    "\n",
    "## Large-scale optimization and applications course project"
   ]
  },
  {
   "cell_type": "code",
   "execution_count": 1,
   "metadata": {
    "collapsed": false
   },
   "outputs": [],
   "source": [
    "import numpy as np\n",
    "import pandas as pd\n",
    "import math\n",
    "import time\n",
    "import scipy as sc\n",
    "import cvxpy as cvx"
   ]
  },
  {
   "cell_type": "markdown",
   "metadata": {},
   "source": [
    "### Erdos-Renyi Random Graph"
   ]
  },
  {
   "cell_type": "code",
   "execution_count": 2,
   "metadata": {
    "collapsed": true
   },
   "outputs": [],
   "source": [
    "class ErdosRenyiGraph():\n",
    "    def __init__(self, n=1, p=0.5):\n",
    "        self.n = n # number of vertices\n",
    "        self.p = p # edge occurrence probability\n",
    "        self.A = None # adjacency matrix\n",
    "        self.L = None # Laplacian matrix\n",
    "        \n",
    "    def generate_edges(self):\n",
    "        # Generate edges\n",
    "        R = np.random.rand(self.n, self.n)\n",
    "        R = 1. * (R < self.p)\n",
    "        R = np.triu(R)\n",
    "        self.A = R + R.transpose()\n",
    "        np.fill_diagonal(self.A, 0)\n",
    "        \n",
    "        # Compute diagonal\n",
    "        D = np.sum(self.A, axis=1)\n",
    "        # compute Laplacian\n",
    "        self.L = np.diag(D) - self.A\n",
    "        \n",
    "        return"
   ]
  },
  {
   "cell_type": "markdown",
   "metadata": {},
   "source": [
    "### Greedy algorithm"
   ]
  },
  {
   "cell_type": "code",
   "execution_count": 3,
   "metadata": {
    "collapsed": true
   },
   "outputs": [],
   "source": [
    "class Greedy():\n",
    "    def __init__(self, get_x0=None, obj=None, tries=100):\n",
    "        self.obj = obj\n",
    "        self.get_x0 = get_x0 # function returning random x0\n",
    "        self.x = None\n",
    "        self.T = tries # number of tries\n",
    "    \n",
    "    def neighborhood(self, z):\n",
    "    \n",
    "        n = z.shape[0]\n",
    "        neighbors = []\n",
    "\n",
    "        for i in range(n):\n",
    "            y = z[:]\n",
    "            y[i] = -1 * z[i]\n",
    "            neighbors += [y]\n",
    "\n",
    "        return neighbors\n",
    "    \n",
    "\n",
    "    def greedy_search(self):\n",
    "    \n",
    "        obj_min = math.inf\n",
    "        \n",
    "        for i in range(self.T):\n",
    "            self.x = self.get_x0()\n",
    "            \n",
    "            while (1):\n",
    "                neighbors = self.neighborhood(self.x)\n",
    "            \n",
    "                obj_neighbors = np.array([self.obj(y) for y in neighbors])\n",
    "\n",
    "                x_new = neighbors[np.argmin(obj_neighbors)]\n",
    "                obj_min_new = self.obj(x_new)\n",
    "\n",
    "                if obj_min_new < obj_min :\n",
    "                    obj_min = obj_min_new\n",
    "                    self.x = x_new\n",
    "                else :\n",
    "                    break\n",
    "\n",
    "        return self.x, self.obj(self.x) "
   ]
  },
  {
   "cell_type": "code",
   "execution_count": 4,
   "metadata": {
    "collapsed": false
   },
   "outputs": [],
   "source": [
    "def max_cut(x, A=None):\n",
    "    n = A.shape[0]\n",
    "    \n",
    "    mc = 0.25 * (np.ones(n).transpose().dot(A).dot(np.ones(n)) - x.transpose().dot(A.dot(x)))\n",
    "    return mc"
   ]
  },
  {
   "cell_type": "code",
   "execution_count": 5,
   "metadata": {
    "collapsed": true
   },
   "outputs": [],
   "source": [
    "def min_uncut(x, A=None):\n",
    "    n = A.shape[0]\n",
    "    \n",
    "    muc = 0.25 * (np.ones(n).transpose().dot(A).dot(np.ones(n)) + x.transpose().dot(A.dot(x)))\n",
    "    return muc"
   ]
  },
  {
   "cell_type": "code",
   "execution_count": 6,
   "metadata": {
    "collapsed": false
   },
   "outputs": [],
   "source": [
    "def sparsest_cut(x, A=None):\n",
    "    n = A.shape[0]\n",
    "    \n",
    "    sc = (np.sum(A) - x.transpose().dot(A).dot(x)) / (n**2 - np.sum(x)**2)\n",
    "    return sc"
   ]
  },
  {
   "cell_type": "markdown",
   "metadata": {},
   "source": [
    "### Primal-Dual Central Path Tracing Interior Point Method"
   ]
  },
  {
   "cell_type": "code",
   "execution_count": 7,
   "metadata": {
    "collapsed": true
   },
   "outputs": [],
   "source": [
    "# Short-step primal-dual path tracing IPM solver for SDP\n",
    "class IPM_Solver():\n",
    "    def __init__(self, X0=None, S0=None,\\\n",
    "                 primal_projection=None,\\\n",
    "                 dual_projection=None,\\\n",
    "                 chi=0.1, kappa=0.1, n_iter=100):\n",
    "        \n",
    "        self.X = X0\n",
    "        self.S = S0\n",
    "        self.t = None\n",
    "        self.primal_projection = primal_projection # replace this function for projection\n",
    "        self.dual_projection = dual_projection # replace this function for projection\n",
    "        self.chi = chi\n",
    "        self.kappa = kappa\n",
    "        self.n_iter = n_iter\n",
    "        \n",
    "        \n",
    "    def calc_t(self):\n",
    "        \n",
    "        k = self.X.shape[0]\n",
    "        self.t = k / np.trace(self.S.dot(self.X))\n",
    "        \n",
    "        return\n",
    "        \n",
    "        \n",
    "    def check_initial(self):\n",
    "        \n",
    "        self.calc_t()\n",
    "        sqrt_X = sc.linalg.sqrtm(self.X) \n",
    "        k = self.X.shape[0]\n",
    "        norm = np.linalg.norm(self.t * sqrt_X.dot(self.S.dot(sqrt_X)) - np.identity(k), ord=2)\n",
    "        \n",
    "        violated = norm > self.kappa\n",
    "        \n",
    "        return violated\n",
    "        \n",
    "        \n",
    "    def ipm_step(self):\n",
    "        \n",
    "        k = self.X.shape[0]\n",
    "        X = self.X\n",
    "        S = self.S\n",
    "        self.calc_t()\n",
    "        t1 = self.t / (1 - self.chi / np.sqrt(k))\n",
    "        \n",
    "        # Nesterov-Todd scaling matrix\n",
    "        Q = NT_scaling_matrix(X, S)\n",
    "        Q = Q.real\n",
    "        #print(np.linalg.norm(sc.imag(Q)))\n",
    "        Q_inv = np.linalg.inv(Q)\n",
    "        \n",
    "        X1 = Q.dot(X.dot(Q))\n",
    "        S1 = Q_inv.dot(S.dot(Q_inv))\n",
    "        B = 2 / t1 * np.identity(k) - 2 * X1.dot(X1)\n",
    "        \n",
    "        Z = sc.linalg.solve_lyapunov(X1, B)\n",
    "        \n",
    "        dS1 = self.dual_projection(Z, Q)\n",
    "        dX1 = self.primal_projection(Z, Q)\n",
    "        \n",
    "        dX = Q_inv.dot(dX1.dot(Q_inv))\n",
    "        dS = Q.dot(dS1.dot(Q))\n",
    "        \n",
    "        self.X = self.X + dX\n",
    "        self.S = self.S + dS\n",
    "        self.t = self.calc_t()\n",
    "        \n",
    "        return\n",
    "        \n",
    "    def solve(self):\n",
    "        \n",
    "        for i in range(self.n_iter):\n",
    "            self.ipm_step()\n",
    "        print('Iteration {}: duality gap = {}'.format(self.n_iter, self.duality_gap()))\n",
    "        \n",
    "    def duality_gap(self):\n",
    "        return (np.trace(self.X.dot(self.S)))"
   ]
  },
  {
   "cell_type": "code",
   "execution_count": 8,
   "metadata": {
    "collapsed": true
   },
   "outputs": [],
   "source": [
    "def NT_scaling_matrix(X, S):\n",
    "    \n",
    "    #print('eigvals:', np.min(np.linalg.eigvals(X)), np.min(np.linalg.eigvals(S)))\n",
    "    \n",
    "    X12 = sc.linalg.sqrtm(X)\n",
    "    X12_inv = np.linalg.pinv(X12)\n",
    "    \n",
    "    A = X12.dot(S.dot(X12))\n",
    "    A12 = sc.linalg.sqrtm(A)\n",
    "    A12_inv = np.linalg.pinv(A12)\n",
    "    \n",
    "    P = X12_inv.dot(A12_inv.dot(X12.dot(S)))\n",
    "    \n",
    "    Q = sc.linalg.sqrtm(P)\n",
    "    \n",
    "    return Q"
   ]
  },
  {
   "cell_type": "code",
   "execution_count": 9,
   "metadata": {
    "collapsed": true
   },
   "outputs": [],
   "source": [
    "def max_cut_dual_projection(Z, Q):\n",
    "    \n",
    "    k = Q.shape[0]\n",
    "    \n",
    "    Q_inv = np.linalg.inv(Q)\n",
    "    \n",
    "    basis = [np.outer(Q_inv[:, i], Q_inv[:, i]) for i in range(k)]\n",
    "    basis = np.array([basis[i].reshape(-1) for i in range(k)])\n",
    "    basis = basis.transpose()\n",
    "    orth = sc.linalg.orth(basis)\n",
    "    if (orth.shape[1] < k):\n",
    "        print('Error: orth basis is bad:', orth.shape)\n",
    "        return np.zeros((k, k))\n",
    "    \n",
    "    orth = [orth[:, i].reshape(k, k) for i in range(k)]\n",
    "    c = np.array([np.trace(Z.dot(orth[i])) for i in range(k)])\n",
    "    \n",
    "    proj = np.zeros((k,k))\n",
    "    for i in range(k):\n",
    "        proj += c[i] * orth[i]\n",
    "        \n",
    "    return proj"
   ]
  },
  {
   "cell_type": "code",
   "execution_count": 10,
   "metadata": {
    "collapsed": true
   },
   "outputs": [],
   "source": [
    "def max_cut_primal_projection(Z, Q):\n",
    "    \n",
    "    return Z - max_cut_dual_projection(Z, Q)"
   ]
  },
  {
   "cell_type": "code",
   "execution_count": 179,
   "metadata": {
    "collapsed": true
   },
   "outputs": [],
   "source": [
    "def unit_l2_sp_cut(W):\n",
    "    k = W.shape[0]\n",
    "    X = cvx.Semidef(k)\n",
    "\n",
    "    obj = cvx.Minimize(1. / k * cvx.trace(W * X))\n",
    "    constraints = [cvx.diag(X) == 1, cvx.sum_entries(X) == k**2 - 0.5 * k - 1]\n",
    "    for j in range(k):\n",
    "        Ej = np.concatenate([np.zeros((j, k)), np.ones((1, k)), np.zeros((k - j - 1, k))])\n",
    "        constraints += [X * Ej + Ej.T * X - X <= 1]\n",
    "\n",
    "    prob = cvx.Problem(obj, constraints)\n",
    "\n",
    "    prob.solve(solver='SCS', max_iters=100)\n",
    "    print(prob.status)\n",
    "    \n",
    "    return prob.value"
   ]
  },
  {
   "cell_type": "markdown",
   "metadata": {},
   "source": [
    "# Tests"
   ]
  },
  {
   "cell_type": "markdown",
   "metadata": {},
   "source": [
    "### Tests on Erdos-Renyi  random graphs"
   ]
  },
  {
   "cell_type": "markdown",
   "metadata": {},
   "source": [
    "### Parameters grid"
   ]
  },
  {
   "cell_type": "code",
   "execution_count": 11,
   "metadata": {
    "collapsed": false
   },
   "outputs": [],
   "source": [
    "params = {'n' : np.arange(20, 101, 20), 'p' : np.linspace(0.2, 0.8, 4)}"
   ]
  },
  {
   "cell_type": "markdown",
   "metadata": {},
   "source": [
    "### Random graphs generating"
   ]
  },
  {
   "cell_type": "code",
   "execution_count": 12,
   "metadata": {
    "collapsed": false
   },
   "outputs": [],
   "source": [
    "# Auxiliary function\n",
    "def get_key(n, p):\n",
    "    return n + 10 * p\n",
    "\n",
    "# Adjacency matrices of random graphs\n",
    "\n",
    "graphs = {}\n",
    "for n in params['n']:\n",
    "    for p in params['p']:\n",
    "        \n",
    "        rg = ErdosRenyiGraph(n=n, p=p)\n",
    "        rg.generate_edges()\n",
    "        \n",
    "        graphs[get_key(n, p)] = rg.A"
   ]
  },
  {
   "cell_type": "markdown",
   "metadata": {},
   "source": [
    "### Theoretical estimation of Max-Cut, Min UnCut and Sparsest Cut values"
   ]
  },
  {
   "cell_type": "code",
   "execution_count": 158,
   "metadata": {
    "collapsed": true
   },
   "outputs": [],
   "source": [
    "# Theoretical estimation of max-cut expected value\n",
    "def estimate_max_cut(n, p):\n",
    "    \n",
    "    # High-density max-cut estimation\n",
    "    est1 = (0.25 * n * p + np.sqrt(n * p * np.log(2) / 4)) * n\n",
    "    # Low-density max-cut estimation\n",
    "    eps = 0.5 * n * p - 0.5\n",
    "    est2 = (0.5 * eps + eps**3 / np.log(eps)) * n\n",
    "    \n",
    "    # Choose the tightest upper bound\n",
    "    est = np.minimum(est1, est2)\n",
    "    \n",
    "    return est\n",
    "\n",
    "# Theoretical estimation of min uncut expected value\n",
    "def estimate_min_uncut(n, p):\n",
    "    \n",
    "    # High-density min uncut estimation\n",
    "    est1 = 0.5 * n * (n - 1) * p - (0.25 * n * p + np.sqrt(4 * n * p / 9 / np.pi)) * n\n",
    "    # Low-density min uncut estimation\n",
    "    eps = 0.5 * n * p - 0.5\n",
    "    est2 = 0.5 * n * (n - 1) * p - (0.5 * eps - 16 * eps**3 / 3) * n\n",
    "    \n",
    "    # Choose the tightest upper bound\n",
    "    est = np.minimum(est1, est2)\n",
    "    \n",
    "    return est\n",
    "\n",
    "# Theoretical estimation of sparsest cut lower bound via Cheeger inequality\n",
    "def estimate_sparsest_cut(A):\n",
    "    D = np.diag(np.sum(A, axis=1))\n",
    "    L = D - A\n",
    "    eigvals = np.linalg.eigvalsh(L)\n",
    "    \n",
    "    zero_eigvals = eigvals[eigvals < 1e-8]\n",
    "    # If zero eigenvalue has a multiplicity 2,\n",
    "    # then graph is not connected,\n",
    "    # and the sparsest cut problem becomes trivial\n",
    "    if zero_eigvals.shape[0] > 1:\n",
    "        return 0\n",
    "    \n",
    "    eigvals = eigvals[eigvals > 1e-8]\n",
    "    lambda_2 = np.min(eigvals)\n",
    "    \n",
    "    # Cheeger's upper bound\n",
    "    return np.sqrt(2 * lambda_2)"
   ]
  },
  {
   "cell_type": "code",
   "execution_count": 156,
   "metadata": {
    "collapsed": false
   },
   "outputs": [],
   "source": [
    "max_cut_est_values = np.zeros((params['p'].shape[0], params['n'].shape[0]))\n",
    "max_cut_est_values = pd.DataFrame(max_cut_est_values, index=params['p'], columns=params['n'])\n",
    "\n",
    "min_uncut_est_values = np.zeros((params['p'].shape[0], params['n'].shape[0]))\n",
    "min_uncut_est_values = pd.DataFrame(min_uncut_est_values, index=params['p'], columns=params['n'])\n",
    "\n",
    "sp_cut_est_values = np.zeros((params['p'].shape[0], params['n'].shape[0]))\n",
    "sp_cut_est_values = pd.DataFrame(sp_cut_est_values, index=params['p'], columns=params['n'])"
   ]
  },
  {
   "cell_type": "code",
   "execution_count": 159,
   "metadata": {
    "collapsed": false
   },
   "outputs": [],
   "source": [
    "for n in params['n']:\n",
    "    for p in params['p']:\n",
    "        \n",
    "        A = graphs[get_key(n, p)]\n",
    "        max_cut_est_values.loc[p, n] = estimate_max_cut(n, p)\n",
    "        min_uncut_est_values.loc[p, n] = estimate_min_uncut(n, p)\n",
    "        sp_cut_est_values.loc[p, n] = estimate_sparsest_cut(A)"
   ]
  },
  {
   "cell_type": "code",
   "execution_count": 163,
   "metadata": {
    "collapsed": false
   },
   "outputs": [
    {
     "name": "stdout",
     "output_type": "stream",
     "text": [
      "          20        40        60         80         100\n",
      "0.2  1.025329  2.124908  2.887202   3.502232   4.229240\n",
      "0.4  2.338375  4.115762  5.009964   6.483546   7.343849\n",
      "0.6  3.390212  4.963901  7.028810   8.478370   9.403919\n",
      "0.8  5.020892  6.958765  8.597282  10.061558  11.374313\n"
     ]
    }
   ],
   "source": [
    "print(sp_cut_est_values)"
   ]
  },
  {
   "cell_type": "markdown",
   "metadata": {},
   "source": [
    "### Greedy algorithm test"
   ]
  },
  {
   "cell_type": "code",
   "execution_count": 85,
   "metadata": {
    "collapsed": false
   },
   "outputs": [],
   "source": [
    "# outputs of algorithm\n",
    "mc_greedy_values = np.zeros((params['p'].shape[0], params['n'].shape[0]))\n",
    "mc_greedy_values = pd.DataFrame(mc_greedy_values, index=params['p'], columns=params['n'])\n",
    "\n",
    "\n",
    "# time of execution\n",
    "mc_greedy_times = np.zeros((params['p'].shape[0], params['n'].shape[0]))\n",
    "mc_greedy_times = pd.DataFrame(mc_greedy_times, index=params['p'], columns=params['n'])"
   ]
  },
  {
   "cell_type": "code",
   "execution_count": 89,
   "metadata": {
    "collapsed": false
   },
   "outputs": [
    {
     "name": "stdout",
     "output_type": "stream",
     "text": [
      "Optimal values:\n",
      "       20     40     60      80      100\n",
      "0.2  17.0   91.0  165.0   302.0   512.0\n",
      "0.4  27.0  163.0  372.0   623.0   994.0\n",
      "0.6  68.0  233.0  523.0   976.0  1497.0\n",
      "0.8  78.0  300.0  689.0  1250.0  1961.0\n",
      "Estimation:\n",
      "             20          40          60           80           100\n",
      "0.2   35.045056  122.553843  258.176402   440.360444   668.208835\n",
      "0.4   61.276922  220.180222  470.558128   810.215373  1237.883215\n",
      "0.6   86.058801  313.705419  675.405500  1168.470405  1791.346248\n",
      "0.8  110.090111  405.107686  876.352804  1520.720889  2336.417670\n",
      "Time of execution:\n",
      "           20        40        60        80        100\n",
      "0.2  0.047625  0.106680  0.118408  0.179470  0.389374\n",
      "0.4  0.059642  0.077786  0.122963  0.183532  0.353812\n",
      "0.6  0.055438  0.073183  0.179925  0.290892  0.347230\n",
      "0.8  0.052569  0.075561  0.218553  0.198785  0.264501\n"
     ]
    }
   ],
   "source": [
    "# Max-Cut test \n",
    "for n in params['n']:\n",
    "    for p in params['p']:\n",
    "\n",
    "        gr = Greedy(get_x0=lambda : -1 * np.ones(n) + 2 * np.random.randint(2, size=n),\\\n",
    "                    obj=lambda x: -1 * max_cut(x, A=graphs[get_key(n, p)]))\n",
    "        \n",
    "        t = time.time()\n",
    "        opt_x, opt_obj = gr.greedy_search()\n",
    "        t = time.time() - t\n",
    "        \n",
    "        mc_greedy_values.loc[p, n] = -1 * opt_obj\n",
    "        mc_greedy_times.loc[p, n] = t\n",
    "        \n",
    "print('Optimal values:\\n', mc_greedy_values)\n",
    "print('Estimation:\\n', max_cut_est_values)\n",
    "print('Time of execution:\\n', mc_greedy_times)"
   ]
  },
  {
   "cell_type": "code",
   "execution_count": 86,
   "metadata": {
    "collapsed": true
   },
   "outputs": [],
   "source": [
    "# outputs of algorithm\n",
    "muc_greedy_values = np.zeros((params['p'].shape[0], params['n'].shape[0]))\n",
    "muc_greedy_values = pd.DataFrame(mc_greedy_values, index=params['p'], columns=params['n'])\n",
    "\n",
    "\n",
    "# time of execution\n",
    "muc_greedy_times = np.zeros((params['p'].shape[0], params['n'].shape[0]))\n",
    "muc_greedy_times = pd.DataFrame(mc_greedy_times, index=params['p'], columns=params['n'])"
   ]
  },
  {
   "cell_type": "code",
   "execution_count": 88,
   "metadata": {
    "collapsed": false
   },
   "outputs": [
    {
     "name": "stdout",
     "output_type": "stream",
     "text": [
      "Optimal values:\n",
      "       20     40     60      80      100\n",
      "0.2  17.0   84.0  182.0   300.0   478.0\n",
      "0.4  36.0  167.0  351.0   637.0  1048.0\n",
      "0.6  65.0  236.0  549.0   944.0  1486.0\n",
      "0.8  72.0  313.0  688.0  1245.0  1958.0\n",
      "Estimation:\n",
      "            20          40          60          80           100\n",
      "0.2   1.348908   28.903599   87.478387  178.791262   303.835129\n",
      "0.4  12.451800   85.395631  225.639961  435.614396   716.723115\n",
      "0.6  25.159462  146.426641  372.140170  705.275698  1147.552986\n",
      "0.8  38.697816  209.807198  522.956774  981.582524  1587.670259\n",
      "Time of execution:\n",
      "           20        40        60        80        100\n",
      "0.2  0.055647  0.077939  0.128024  0.181162  0.428578\n",
      "0.4  0.042858  0.075814  0.128913  0.244440  0.267759\n",
      "0.6  0.036285  0.073086  0.132488  0.252940  0.312637\n",
      "0.8  0.043720  0.071493  0.130774  0.198140  0.344343\n"
     ]
    }
   ],
   "source": [
    "# Min UnCut test \n",
    "for n in params['n']:\n",
    "    for p in params['p']:\n",
    "\n",
    "        gr = Greedy(get_x0=lambda : -1 * np.ones(n) + 2 * np.random.randint(2, size=n),\\\n",
    "                    obj=lambda x: min_uncut(x, A=graphs[get_key(n, p)]))\n",
    "        \n",
    "        t = time.time()\n",
    "        opt_x, opt_obj = gr.greedy_search()\n",
    "        t = time.time() - t\n",
    "        \n",
    "        muc_greedy_values.loc[p, n] = opt_obj\n",
    "        muc_greedy_times.loc[p, n] = t\n",
    "        \n",
    "print('Optimal values:\\n', muc_greedy_values)\n",
    "print('Estimation:\\n', min_uncut_est_values)\n",
    "print('Time of execution:\\n', muc_greedy_times)"
   ]
  },
  {
   "cell_type": "code",
   "execution_count": 90,
   "metadata": {
    "collapsed": true
   },
   "outputs": [],
   "source": [
    "# outputs of algorithm\n",
    "sc_greedy_values = np.zeros((params['p'].shape[0], params['n'].shape[0]))\n",
    "sc_greedy_values = pd.DataFrame(mc_greedy_values, index=params['p'], columns=params['n'])\n",
    "\n",
    "\n",
    "# time of execution\n",
    "sc_greedy_times = np.zeros((params['p'].shape[0], params['n'].shape[0]))\n",
    "sc_greedy_times = pd.DataFrame(mc_greedy_times, index=params['p'], columns=params['n'])"
   ]
  },
  {
   "cell_type": "code",
   "execution_count": 91,
   "metadata": {
    "collapsed": false
   },
   "outputs": [
    {
     "name": "stdout",
     "output_type": "stream",
     "text": [
      "Optimal values:\n",
      "           20        40        60        80        100\n",
      "0.2  0.190000  0.230000  0.208705  0.198730  0.200000\n",
      "0.4  0.440000  0.393484  0.416295  0.386364  0.416967\n",
      "0.6  0.703297  0.598465  0.595982  0.601001  0.601600\n",
      "0.8  0.828283  0.804688  0.786756  0.774984  0.795918\n",
      "Estimation:\n",
      "           20         40         60         80         100\n",
      "0.2  0.262825   1.128808   2.083984   3.066408   4.471618\n",
      "0.4  1.366999   4.234874   6.274936  10.509092  13.483028\n",
      "0.6  2.873385   6.160079  12.351044  17.970689  22.108422\n",
      "0.8  6.302340  12.106101  18.478316  25.308740  32.343750\n",
      "Time of execution:\n",
      "           20        40        60        80        100\n",
      "0.2  0.070913  0.083236  0.146062  0.385446  0.317414\n",
      "0.4  0.057796  0.080928  0.140337  0.379452  0.446185\n",
      "0.6  0.046991  0.092468  0.141134  0.294798  0.401081\n",
      "0.8  0.043774  0.082179  0.151729  0.211405  0.349521\n"
     ]
    }
   ],
   "source": [
    "# Sparsest Cut test \n",
    "for n in params['n']:\n",
    "    for p in params['p']:\n",
    "\n",
    "        gr = Greedy(get_x0=lambda : -1 * np.ones(n) + 2 * np.random.randint(2, size=n),\\\n",
    "                    obj=lambda x: sparsest_cut(x, A=graphs[get_key(n, p)]))\n",
    "        \n",
    "        t = time.time()\n",
    "        opt_x, opt_obj = gr.greedy_search()\n",
    "        t = time.time() - t\n",
    "        \n",
    "        sc_greedy_values.loc[p, n] = opt_obj\n",
    "        sc_greedy_times.loc[p, n] = t\n",
    "        \n",
    "print('Optimal values:\\n', sc_greedy_values)\n",
    "print('Estimation:\\n', sp_cut_est_values)\n",
    "print('Time of execution:\\n', sc_greedy_times)"
   ]
  },
  {
   "cell_type": "markdown",
   "metadata": {
    "collapsed": true
   },
   "source": [
    "### Interior Point Method Test"
   ]
  },
  {
   "cell_type": "code",
   "execution_count": 21,
   "metadata": {
    "collapsed": true
   },
   "outputs": [],
   "source": [
    "# outputs of algorithm\n",
    "ipm_values = np.zeros((params['p'].shape[0], params['n'].shape[0]))\n",
    "ipm_values = pd.DataFrame(ipm_values, index=params['p'], columns=params['n'])\n",
    "\n",
    "\n",
    "# time of execution\n",
    "ipm_times = np.zeros((params['p'].shape[0], params['n'].shape[0]))\n",
    "ipm_times = pd.DataFrame(ipm_times, index=params['p'], columns=params['n'])"
   ]
  },
  {
   "cell_type": "code",
   "execution_count": 174,
   "metadata": {
    "collapsed": false
   },
   "outputs": [
    {
     "name": "stdout",
     "output_type": "stream",
     "text": [
      "Iteration 1000: duality gap = 1.0919819125665942e-08\n",
      "Iteration 1000: duality gap = 1.3641905032063698e-08\n",
      "Iteration 1000: duality gap = 1.2488844262016414e-08\n",
      "Iteration 1000: duality gap = 1.086633841143851e-08\n",
      "Iteration 1000: duality gap = 2.541255360303508e-05\n",
      "Iteration 1000: duality gap = 3.101375056731488e-05\n",
      "Iteration 1000: duality gap = 2.9109624675103916e-05\n",
      "Iteration 1000: duality gap = 2.580725896413288e-05\n",
      "Iteration 1000: duality gap = 0.0008342496934483131\n",
      "Iteration 1000: duality gap = 0.001052582359313518\n",
      "Iteration 1000: duality gap = 0.0010290406674659078\n",
      "Iteration 1000: duality gap = 0.0008545638193061183\n",
      "Iteration 1000: duality gap = 0.00754825706357014\n",
      "Iteration 1000: duality gap = 0.008952490886382098\n",
      "Iteration 1000: duality gap = 0.008751721591362744\n",
      "Iteration 1000: duality gap = 0.008005301876075243\n",
      "Iteration 1000: duality gap = 0.034649555246937136\n",
      "Iteration 1000: duality gap = 0.043398938685091225\n",
      "Iteration 1000: duality gap = 0.042791081906036546\n",
      "Iteration 1000: duality gap = 0.035813208893306595\n",
      "Optimal values:\n",
      "            20          40          60           80           100\n",
      "0.2  29.431985  130.136680  262.247324   430.746212   669.126500\n",
      "0.4  60.290311  203.679575  458.278031   782.888673  1214.670964\n",
      "0.6  81.155238  288.514040  631.286104  1108.967455  1702.195427\n",
      "0.8  95.364342  359.052341  787.590013  1376.766224  2159.518003\n",
      "Estimation:\n",
      "             20          40          60           80           100\n",
      "0.2   36.651092  127.096401  266.521613   453.208738   686.164871\n",
      "0.4   63.548200  226.604369  482.360039   828.385604  1263.276885\n",
      "0.6   88.840538  321.573359  689.859830  1190.724302  1822.447014\n",
      "0.8  113.302184  414.192802  893.043226  1546.417476  2372.329741\n",
      "Time of execution:\n",
      "           20         40         60          80          100\n",
      "0.2  7.433283  21.958996  50.476675  118.892647  219.795809\n",
      "0.4  7.876525  24.343558  49.547392  119.840315  193.288305\n",
      "0.6  7.009986  25.542976  49.774089  109.004840  212.017449\n",
      "0.8  6.606875  24.981019  48.753915  113.483592  235.657828\n"
     ]
    }
   ],
   "source": [
    "# Max-Cut test \n",
    "for n in params['n']:\n",
    "    for p in params['p']:\n",
    "\n",
    "        W = graphs[get_key(n, p)]\n",
    "    \n",
    "        eigvals = np.linalg.eigvals(W)\n",
    "\n",
    "        delta = 1\n",
    "\n",
    "        lambda_max = np.max(eigvals) \n",
    "        alpha = 1 / (lambda_max + delta) \n",
    "        beta = delta - np.min(eigvals)\n",
    "        \n",
    "        X0 = np.identity(n) - alpha * W\n",
    "        S0 = W + beta * np.identity(n)\n",
    "\n",
    "        ipm_solver = IPM_Solver(X0=X0, S0=S0,\\\n",
    "                        primal_projection=max_cut_primal_projection,\\\n",
    "                        dual_projection=max_cut_dual_projection,\\\n",
    "                        n_iter=1000)\n",
    "\n",
    "        t = time.time()\n",
    "        ipm_solver.solve()\n",
    "        t = time.time() - t\n",
    "        \n",
    "        X_opt = ipm_solver.X\n",
    "        obj_opt = 0.25 * (np.sum(W) - np.trace(W.dot(X_opt)))\n",
    "        \n",
    "        ipm_values.loc[p, n] = obj_opt\n",
    "        ipm_times.loc[p, n] = t\n",
    "        \n",
    "print('Optimal values:\\n', ipm_values)\n",
    "print('Estimation:\\n', max_cut_est_values)\n",
    "print('Time of execution:\\n', ipm_times)"
   ]
  },
  {
   "cell_type": "markdown",
   "metadata": {},
   "source": [
    "### Unit $l_2$ representation of sparsest cut"
   ]
  },
  {
   "cell_type": "code",
   "execution_count": 164,
   "metadata": {
    "collapsed": true
   },
   "outputs": [],
   "source": [
    "# outputs of algorithm\n",
    "l2_sp_cut_values = np.zeros((params['p'].shape[0], params['n'].shape[0]))\n",
    "l2_sp_cut_values = pd.DataFrame(l2_sp_cut_values, index=params['p'], columns=params['n'])\n",
    "\n",
    "\n",
    "# time of execution\n",
    "l2_sp_cut_times = np.zeros((params['p'].shape[0], params['n'].shape[0]))\n",
    "l2_sp_cut_times = pd.DataFrame(l2_sp_cut_times, index=params['p'], columns=params['n'])"
   ]
  },
  {
   "cell_type": "code",
   "execution_count": 180,
   "metadata": {
    "collapsed": false
   },
   "outputs": [
    {
     "name": "stdout",
     "output_type": "stream",
     "text": [
      "optimal_inaccurate\n",
      "n = 20 , p =  0.2 tested\n",
      "optimal_inaccurate\n",
      "n = 20 , p =  0.4 tested\n",
      "optimal_inaccurate\n",
      "n = 20 , p =  0.6 tested\n",
      "optimal_inaccurate\n",
      "n = 20 , p =  0.8 tested\n",
      "optimal_inaccurate\n",
      "n = 40 , p =  0.2 tested\n",
      "optimal_inaccurate\n",
      "n = 40 , p =  0.4 tested\n",
      "optimal_inaccurate\n",
      "n = 40 , p =  0.6 tested\n",
      "optimal_inaccurate\n",
      "n = 40 , p =  0.8 tested\n",
      "optimal_inaccurate\n",
      "n = 60 , p =  0.2 tested\n",
      "optimal_inaccurate\n",
      "n = 60 , p =  0.4 tested\n",
      "optimal_inaccurate\n",
      "n = 60 , p =  0.6 tested\n",
      "optimal_inaccurate\n",
      "n = 60 , p =  0.8 tested\n",
      "optimal_inaccurate\n",
      "n = 80 , p =  0.2 tested\n",
      "optimal_inaccurate\n",
      "n = 80 , p =  0.4 tested\n",
      "optimal_inaccurate\n",
      "n = 80 , p =  0.6 tested\n",
      "optimal_inaccurate\n",
      "n = 80 , p =  0.8 tested\n",
      "optimal_inaccurate\n",
      "n = 100 , p =  0.2 tested\n",
      "optimal_inaccurate\n",
      "n = 100 , p =  0.4 tested\n",
      "optimal_inaccurate\n",
      "n = 100 , p =  0.6 tested\n",
      "optimal_inaccurate\n",
      "n = 100 , p =  0.8 tested\n",
      "Optimal values:\n",
      "            20         40         60         80         100\n",
      "0.2   3.182472   8.727526  12.279557  15.332464  19.742617\n",
      "0.4   7.930657  15.106098  23.551765  31.376674  39.832258\n",
      "0.6  12.241216  23.328865  35.260274  47.677462  59.029584\n",
      "0.8  15.473328  31.254667  46.571091  61.856257  78.729749\n",
      "Estimation:\n",
      "           20        40        60         80         100\n",
      "0.2  1.025329  2.124908  2.887202   3.502232   4.229240\n",
      "0.4  2.338375  4.115762  5.009964   6.483546   7.343849\n",
      "0.6  3.390212  4.963901  7.028810   8.478370   9.403919\n",
      "0.8  5.020892  6.958765  8.597282  10.061558  11.374313\n",
      "Time of execution:\n",
      "           20        40        60        80         100\n",
      "0.2  0.156529  0.762021  3.032832  7.277937  13.798227\n",
      "0.4  0.132919  0.771237  2.990910  6.944147  14.230462\n",
      "0.6  0.135523  0.781156  2.912829  7.215524  15.103758\n",
      "0.8  0.128842  0.819107  3.443282  7.230506  13.938156\n"
     ]
    }
   ],
   "source": [
    "# Sparsest Cut test \n",
    "for n in params['n']:\n",
    "    for p in params['p']:\n",
    "\n",
    "        W = graphs[get_key(n, p)]\n",
    "    \n",
    "        t = time.time()\n",
    "        obj_opt =  unit_l2_sp_cut(W)\n",
    "        t = time.time() - t\n",
    "        \n",
    "        l2_sp_cut_values.loc[p, n] = obj_opt\n",
    "        l2_sp_cut_times.loc[p, n] = t\n",
    "        \n",
    "        print('n =', n, ', p = ', p, 'tested')\n",
    "        \n",
    "        \n",
    "print('Optimal values:\\n', l2_sp_cut_values)\n",
    "print('Estimation:\\n', sp_cut_est_values)\n",
    "print('Time of execution:\\n', l2_sp_cut_times)"
   ]
  },
  {
   "cell_type": "markdown",
   "metadata": {
    "collapsed": true
   },
   "source": [
    "# LP-relaxations"
   ]
  },
  {
   "cell_type": "code",
   "execution_count": 39,
   "metadata": {
    "collapsed": true
   },
   "outputs": [],
   "source": [
    "def Max_Cut_lp_relaxation(W):\n",
    "    k = W.shape[0]\n",
    "    \n",
    "    x = cvx.Variable(k)\n",
    "    Y = cvx.Variable(k, k)\n",
    "    \n",
    "    obj = cvx.Maximize(cvx.trace(W * Y))\n",
    "    constraints = [Y <= x * np.ones((1, k)) + np.ones((k, 1)) * x.T,\n",
    "                   Y <= 2 * np.ones((k, k)) - x * np.ones((1, k)) - np.ones((k, 1)) * x.T,\n",
    "                   0 <= x, x <= 1, \n",
    "                   0 <= Y, Y <= 1]\n",
    "    \n",
    "    prob = cvx.Problem(obj, constraints)\n",
    "    prob.solve(solver='SCS')\n",
    "    \n",
    "    return (np.ones(k).transpose().dot(W).dot(np.ones(k)) - x.value.transpose().dot(W.dot(x.value))) * 0.25"
   ]
  },
  {
   "cell_type": "code",
   "execution_count": 40,
   "metadata": {
    "collapsed": true
   },
   "outputs": [],
   "source": [
    "def transform_W(W):\n",
    "    n = W.shape[0]\n",
    "    W_new = np.zeros((2*n,2*n))\n",
    "    \n",
    "    W_new[n:, :n] = W\n",
    "    W_new[:n, n:] = W\n",
    "    \n",
    "    return W_new"
   ]
  },
  {
   "cell_type": "code",
   "execution_count": 139,
   "metadata": {
    "collapsed": true
   },
   "outputs": [],
   "source": [
    "def Min_Un_Cut_lp_relaxation(W):\n",
    "    k = W.shape[0]\n",
    "    W = transform_W(W)\n",
    "    \n",
    "    x = cvx.Variable(2*k)\n",
    "    Y = cvx.Variable(2*k, 2*k)\n",
    "    \n",
    "    obj = cvx.Minimize(cvx.trace(W * Y))\n",
    "    constraints = [Y >= x * np.ones((1, 2*k)) + np.ones((2*k, 1)) * x.T,\n",
    "                   Y >= 2 * np.ones((2*k, 2*k)) - x * np.ones((1, 2*k)) - np.ones((2*k, 1)) * x.T,\n",
    "                   0 <= x, x <= 1,\n",
    "                   Y.T == Y]\n",
    "    \n",
    "    prob = cvx.Problem(obj, constraints)\n",
    "    prob.solve(solver='SCS')\n",
    "    \n",
    "    return (np.ones(2 * k).transpose().dot(W).dot(np.ones(2 * k)) + x.value.transpose().dot(W.dot(x.value))) * 0.125"
   ]
  },
  {
   "cell_type": "code",
   "execution_count": 169,
   "metadata": {
    "collapsed": true
   },
   "outputs": [],
   "source": [
    "def Sparsest_Cut_lp_relaxation(W):\n",
    "    k = W.shape[0]\n",
    "    \n",
    "    Y = cvx.Variable(k, k)\n",
    "    D = np.ones([k,k])\n",
    "    \n",
    "    obj = cvx.Maximize(cvx.trace(W * Y))\n",
    "    constraints = [cvx.trace(D * Y) == 1, \n",
    "                   Y >= 0]\n",
    "    for j in range(k):\n",
    "        Ej = np.concatenate([np.zeros((j, k)), np.ones((1, k)), np.zeros((k - j - 1, k))])\n",
    "        constraints += [Y * Ej + Ej.T * Y - Y >= 0]\n",
    "            \n",
    "    prob = cvx.Problem(obj, constraints)\n",
    "    prob.solve(solver='SCS', max_iters=100)\n",
    "    \n",
    "    return prob.value"
   ]
  },
  {
   "cell_type": "code",
   "execution_count": 50,
   "metadata": {
    "collapsed": false
   },
   "outputs": [],
   "source": [
    "# outputs of algorithm\n",
    "lp_Max_Cut_values = np.zeros((params['p'].shape[0], params['n'].shape[0]))\n",
    "lp_Max_Cut_values = pd.DataFrame(lp_Max_Cut_values, index=params['p'], columns=params['n'])\n",
    "\n",
    "\n",
    "# time of execution\n",
    "lp_Max_Cut_times = np.zeros((params['p'].shape[0], params['n'].shape[0]))\n",
    "lp_Max_Cut_times = pd.DataFrame(lp_Max_Cut_times, index=params['p'], columns=params['n'])"
   ]
  },
  {
   "cell_type": "code",
   "execution_count": 51,
   "metadata": {
    "collapsed": true
   },
   "outputs": [],
   "source": [
    "# outputs of algorithm\n",
    "lp_Min_Uncut_values = np.zeros((params['p'].shape[0], params['n'].shape[0]))\n",
    "lp_Min_Uncut_values = pd.DataFrame(lp_Min_Uncut_values, index=params['p'], columns=params['n'])\n",
    "\n",
    "\n",
    "# time of execution\n",
    "lp_Min_Uncut_times = np.zeros((params['p'].shape[0], params['n'].shape[0]))\n",
    "lp_Min_Uncut_times = pd.DataFrame(lp_Min_Uncut_times, index=params['p'], columns=params['n'])"
   ]
  },
  {
   "cell_type": "code",
   "execution_count": 52,
   "metadata": {
    "collapsed": true
   },
   "outputs": [],
   "source": [
    "# outputs of algorithm\n",
    "lp_sp_Cut_values = np.zeros((params['p'].shape[0], params['n'].shape[0]))\n",
    "lp_sp_Cut_values = pd.DataFrame(lp_sp_Cut_values, index=params['p'], columns=params['n'])\n",
    "\n",
    "\n",
    "# time of execution\n",
    "lp_sp_Cut_times = np.zeros((params['p'].shape[0], params['n'].shape[0]))\n",
    "lp_sp_Cut_times = pd.DataFrame(lp_sp_Cut_times, index=params['p'], columns=params['n'])"
   ]
  },
  {
   "cell_type": "code",
   "execution_count": 137,
   "metadata": {
    "collapsed": false
   },
   "outputs": [
    {
     "name": "stdout",
     "output_type": "stream",
     "text": [
      "Optimal values:\n",
      "            20          40          60          80           100\n",
      "0.2  12.374781   65.629918  138.386599  230.248402   370.509735\n",
      "0.4  31.127516  113.624691  265.500843  471.378152   747.758466\n",
      "0.6  47.629592  175.500947  397.500842  716.251030  1108.126786\n",
      "0.8  60.003232  235.132637  525.013863  929.332810  1477.925121\n",
      "Time of execution:\n",
      "           20        40        60        80        100\n",
      "0.2  0.013428  0.028338  0.047363  0.086294  0.148773\n",
      "0.4  0.011856  0.056529  0.050932  0.125852  0.236400\n",
      "0.6  0.012826  0.028367  0.071739  0.186027  0.354341\n",
      "0.8  0.012313  0.032294  0.068754  0.134669  0.247148\n"
     ]
    }
   ],
   "source": [
    "# Max-Cut test \n",
    "for n in params['n']:\n",
    "    for p in params['p']:\n",
    "        \n",
    "        t = time.time()\n",
    "        opt_obj = Max_Cut_lp_relaxation(graphs[get_key(n, p)])\n",
    "        t = time.time() - t\n",
    "        \n",
    "        lp_Max_Cut_values.loc[p, n] = opt_obj\n",
    "        lp_Max_Cut_times.loc[p, n] = t\n",
    "        \n",
    "print('Optimal values:\\n', lp_Max_Cut_values)\n",
    "print('Time of execution:\\n', lp_Max_Cut_times)"
   ]
  },
  {
   "cell_type": "code",
   "execution_count": 141,
   "metadata": {
    "collapsed": false
   },
   "outputs": [
    {
     "name": "stdout",
     "output_type": "stream",
     "text": [
      "n = 20 , p =  0.2 tested\n",
      "n = 20 , p =  0.4 tested\n",
      "n = 20 , p =  0.6 tested\n",
      "n = 20 , p =  0.8 tested\n",
      "n = 40 , p =  0.2 tested\n",
      "n = 40 , p =  0.4 tested\n",
      "n = 40 , p =  0.6 tested\n",
      "n = 40 , p =  0.8 tested\n",
      "n = 60 , p =  0.2 tested\n",
      "n = 60 , p =  0.4 tested\n",
      "n = 60 , p =  0.6 tested\n",
      "n = 60 , p =  0.8 tested\n",
      "n = 80 , p =  0.2 tested\n",
      "n = 80 , p =  0.4 tested\n",
      "n = 80 , p =  0.6 tested\n",
      "n = 80 , p =  0.8 tested\n",
      "n = 100 , p =  0.2 tested\n",
      "n = 100 , p =  0.4 tested\n",
      "n = 100 , p =  0.6 tested\n",
      "n = 100 , p =  0.8 tested\n",
      "Optimal values:\n",
      "            20          40          60           80           100\n",
      "0.2  20.625516  109.373558  230.628054   383.755518   617.451226\n",
      "0.4  51.876599  189.373887  442.495832   785.628966  1246.246914\n",
      "0.6  79.375447  292.499432  662.477723  1193.733360  1846.903638\n",
      "0.8  99.998919  391.877859  875.001162  1548.748177  2463.162666\n",
      "Time of execution:\n",
      "           20        40        60        80        100\n",
      "0.2  0.029958  0.111946  0.347665  0.509658  0.765721\n",
      "0.4  0.028274  0.113997  0.318581  0.606641  0.901005\n",
      "0.6  0.032696  0.103831  0.280712  0.534633  1.001389\n",
      "0.8  0.036837  0.108554  0.322009  0.584454  1.082593\n"
     ]
    }
   ],
   "source": [
    "# Min Un Cut test \n",
    "for n in params['n']:\n",
    "    for p in params['p']:\n",
    "\n",
    "#for n in [20]:\n",
    "#    for p in [0.2]:\n",
    "\n",
    "        t = time.time()\n",
    "        opt_obj = Min_Un_Cut_lp_relaxation(graphs[get_key(n, p)])\n",
    "        t = time.time() - t\n",
    "        \n",
    "        A = graphs[get_key(n, p)]\n",
    "        lp_Min_Uncut_values.loc[p, n] = opt_obj\n",
    "        lp_Min_Uncut_times.loc[p, n] = t\n",
    "\n",
    "        print('n =', n, ', p = ', p, 'tested')\n",
    "        \n",
    "print('Optimal values:\\n', lp_Min_Uncut_values)\n",
    "print('Time of execution:\\n', lp_Min_Uncut_times)"
   ]
  },
  {
   "cell_type": "code",
   "execution_count": 170,
   "metadata": {
    "collapsed": false
   },
   "outputs": [
    {
     "name": "stdout",
     "output_type": "stream",
     "text": [
      "n = 20 , p =  0.2 tested\n",
      "n = 20 , p =  0.4 tested\n",
      "n = 20 , p =  0.6 tested\n",
      "n = 20 , p =  0.8 tested\n",
      "n = 40 , p =  0.2 tested\n",
      "n = 40 , p =  0.4 tested\n",
      "n = 40 , p =  0.6 tested\n",
      "n = 40 , p =  0.8 tested\n",
      "n = 60 , p =  0.2 tested\n",
      "n = 60 , p =  0.4 tested\n",
      "n = 60 , p =  0.6 tested\n",
      "n = 60 , p =  0.8 tested\n",
      "n = 80 , p =  0.2 tested\n",
      "n = 80 , p =  0.4 tested\n",
      "n = 80 , p =  0.6 tested\n",
      "n = 80 , p =  0.8 tested\n",
      "n = 100 , p =  0.2 tested\n",
      "n = 100 , p =  0.4 tested\n",
      "n = 100 , p =  0.6 tested\n",
      "n = 100 , p =  0.8 tested\n",
      "Optimal values:\n",
      "           20        40        60        80        100\n",
      "0.2  0.298821  0.366473  0.345016  0.325384  0.332736\n",
      "0.4  0.610984  0.559551  0.571442  0.569160  0.574307\n",
      "0.6  0.827207  0.750154  0.749124  0.753448  0.747620\n",
      "0.8  0.945677  0.901116  0.885715  0.879609  0.886595\n",
      "Time of execution:\n",
      "           20        40        60        80         100\n",
      "0.2  0.117843  0.718436  2.739953  7.626631  12.672801\n",
      "0.4  0.096559  0.749443  2.699008  7.180649  13.982816\n",
      "0.6  0.096460  0.777362  2.926412  8.385034  14.511220\n",
      "0.8  0.105442  0.776333  2.823051  8.213174  13.481095\n"
     ]
    }
   ],
   "source": [
    "# Sparsest test \n",
    "for n in params['n']:\n",
    "    for p in params['p']:\n",
    "        \n",
    "        t = time.time()\n",
    "        opt_obj = Sparsest_Cut_lp_relaxation(graphs[get_key(n, p)])\n",
    "        t = time.time() - t\n",
    "        \n",
    "        lp_sp_Cut_values.loc[p, n] = opt_obj\n",
    "        lp_sp_Cut_times.loc[p, n] = t\n",
    "        \n",
    "        print('n =', n, ', p = ', p, 'tested')\n",
    "        \n",
    "print('Optimal values:\\n', lp_sp_Cut_values)\n",
    "print('Time of execution:\\n', lp_sp_Cut_times)"
   ]
  },
  {
   "cell_type": "markdown",
   "metadata": {},
   "source": [
    "# Gradient descent for SDP-relaxations"
   ]
  },
  {
   "cell_type": "code",
   "execution_count": 75,
   "metadata": {
    "collapsed": true
   },
   "outputs": [],
   "source": [
    "def projection_1(X, mu, W):\n",
    "    tmp = W - mu*(np.linalg.inv(X))\n",
    "    for i in range(n):\n",
    "        tmp[i,i] = 0;\n",
    "    return tmp"
   ]
  },
  {
   "cell_type": "code",
   "execution_count": 76,
   "metadata": {
    "collapsed": true
   },
   "outputs": [],
   "source": [
    "def alpha(X, mu, W, beta):\n",
    "    alpha_ = (beta * min(np.linalg.eig(X)[0])) / abs((min(np.linalg.eig(projection_1(X, mu, W))[0])))\n",
    "    return alpha_"
   ]
  },
  {
   "cell_type": "code",
   "execution_count": 77,
   "metadata": {
    "collapsed": true
   },
   "outputs": [],
   "source": [
    "def GD_Max_Cut(W, l):\n",
    "    n = W.shape[0]\n",
    "    X_0 = np.eye(n)\n",
    "    mu = 0.5\n",
    "    beta = 0.5\n",
    "    for i in range(l):\n",
    "        X_0 = X_0 + (alpha(X_0, mu, W, beta))*projection_1(X_0, mu, W)\n",
    "        mu = mu / 2\n",
    "    return np.trace(W.dot(X_0))"
   ]
  },
  {
   "cell_type": "code",
   "execution_count": 78,
   "metadata": {
    "collapsed": true
   },
   "outputs": [],
   "source": [
    "def projection_2(X, mu, W):\n",
    "    tmp = W - mu*(np.linalg.inv(X))\n",
    "    for i in range(n):\n",
    "        tmp[i,i] = 0\n",
    "        tmp[i,n + i] = 0\n",
    "        tmp[n + i, i] = 0\n",
    "    return tmp"
   ]
  },
  {
   "cell_type": "code",
   "execution_count": 79,
   "metadata": {
    "collapsed": true
   },
   "outputs": [],
   "source": [
    "def alpha_2(X, mu, W, beta):\n",
    "    alpha_ = (beta * min(np.linalg.eig(X)[0])) / abs((min(np.linalg.eig(projection_2(X, mu, W))[0])))\n",
    "    return alpha_"
   ]
  },
  {
   "cell_type": "code",
   "execution_count": 80,
   "metadata": {
    "collapsed": true
   },
   "outputs": [],
   "source": [
    "def GD_Min_Un_Cut(W, l):\n",
    "    W = transform_W(W)\n",
    "    n = W.shape[0]\n",
    "    X_0 = np.eye(n)\n",
    "    mu = 0.5\n",
    "    beta = 0.5\n",
    "    for i in range(l):\n",
    "        X_0 = X_0 + (alpha_2(X_0, mu, W, beta))*projection_2(X_0, mu, W)\n",
    "        mu = mu / 2\n",
    "    return np.trace(W.dot(X_0))"
   ]
  },
  {
   "cell_type": "code",
   "execution_count": 81,
   "metadata": {
    "collapsed": false
   },
   "outputs": [],
   "source": [
    "# outputs of algorithm\n",
    "gd_Max_Cut_values = np.zeros((params['p'].shape[0], params['n'].shape[0]))\n",
    "gd_Max_Cut_values = pd.DataFrame(gd_Max_Cut_values, index=params['p'], columns=params['n'])\n",
    "\n",
    "\n",
    "# time of execution\n",
    "gd_Max_Cut_times = np.zeros((params['p'].shape[0], params['n'].shape[0]))\n",
    "gd_Max_Cut_times = pd.DataFrame(gd_Max_Cut_times, index=params['p'], columns=params['n'])"
   ]
  },
  {
   "cell_type": "code",
   "execution_count": 82,
   "metadata": {
    "collapsed": false
   },
   "outputs": [
    {
     "name": "stdout",
     "output_type": "stream",
     "text": [
      "n = 20 , p =  0.2 tested\n",
      "n = 20 , p =  0.4 tested\n",
      "n = 20 , p =  0.6 tested\n",
      "n = 20 , p =  0.8 tested\n",
      "n = 40 , p =  0.2 tested\n",
      "n = 40 , p =  0.4 tested\n",
      "n = 40 , p =  0.6 tested\n",
      "n = 40 , p =  0.8 tested\n",
      "n = 60 , p =  0.2 tested\n",
      "n = 60 , p =  0.4 tested\n",
      "n = 60 , p =  0.6 tested\n",
      "n = 60 , p =  0.8 tested\n",
      "n = 80 , p =  0.2 tested\n",
      "n = 80 , p =  0.4 tested\n",
      "n = 80 , p =  0.6 tested\n",
      "n = 80 , p =  0.8 tested\n",
      "n = 100 , p =  0.2 tested\n",
      "n = 100 , p =  0.4 tested\n",
      "n = 100 , p =  0.6 tested\n",
      "n = 100 , p =  0.8 tested\n",
      "Optimal values:\n",
      "            20          40          60           80           100\n",
      "0.2  11.595010   70.732211  154.076731   264.365501   432.525958\n",
      "0.4  32.152224  128.122607  308.316608   555.439156   898.486811\n",
      "0.6  48.141263  195.779247  460.388988   841.820882  1329.801151\n",
      "0.8  58.029009  256.156063  589.855538  1079.012900  1736.087154\n",
      "Time of execution:\n",
      "           20        40        60        80         100\n",
      "0.2  0.415974  1.750458  3.857480  9.020489  15.484402\n",
      "0.4  0.482390  1.643881  4.201674  9.163862  16.069376\n",
      "0.6  0.441821  1.816941  3.813231  9.104874  17.500542\n",
      "0.8  0.406073  1.561782  4.013681  8.934394  15.571183\n"
     ]
    }
   ],
   "source": [
    "# Max-Cut test \n",
    "for n in params['n']:\n",
    "    for p in params['p']:\n",
    "        \n",
    "        t = time.time()\n",
    "        opt_obj = GD_Max_Cut(graphs[get_key(n, p)], 1000)\n",
    "        t = time.time() - t\n",
    "        \n",
    "        W = graphs[get_key(n, p)]\n",
    "        gd_Max_Cut_values.loc[p, n] = (W.sum() - opt_obj) * 0.25\n",
    "        gd_Max_Cut_times.loc[p, n] = t\n",
    "        \n",
    "        print('n =', n, ', p = ', p, 'tested')\n",
    "        \n",
    "print('Optimal values:\\n', gd_Max_Cut_values)\n",
    "print('Time of execution:\\n', gd_Max_Cut_times)"
   ]
  },
  {
   "cell_type": "code",
   "execution_count": 83,
   "metadata": {
    "collapsed": true
   },
   "outputs": [],
   "source": [
    "# outputs of algorithm\n",
    "gd_Min_Uncut_values = np.zeros((params['p'].shape[0], params['n'].shape[0]))\n",
    "gd_Min_Uncut_values = pd.DataFrame(gd_Min_Uncut_values, index=params['p'], columns=params['n'])\n",
    "\n",
    "\n",
    "# time of execution\n",
    "gd_Min_Uncut_times = np.zeros((params['p'].shape[0], params['n'].shape[0]))\n",
    "gd_Min_Uncut_times = pd.DataFrame(gd_Min_Uncut_times, index=params['p'], columns=params['n'])"
   ]
  },
  {
   "cell_type": "code",
   "execution_count": 142,
   "metadata": {
    "collapsed": false
   },
   "outputs": [
    {
     "name": "stdout",
     "output_type": "stream",
     "text": [
      "n = 20 , p =  0.2 tested\n",
      "n = 20 , p =  0.4 tested\n",
      "n = 20 , p =  0.6 tested\n",
      "n = 20 , p =  0.8 tested\n",
      "n = 40 , p =  0.2 tested\n",
      "n = 40 , p =  0.4 tested\n",
      "n = 40 , p =  0.6 tested\n",
      "n = 40 , p =  0.8 tested\n",
      "n = 60 , p =  0.2 tested\n",
      "n = 60 , p =  0.4 tested\n",
      "n = 60 , p =  0.6 tested\n",
      "n = 60 , p =  0.8 tested\n",
      "n = 80 , p =  0.2 tested\n",
      "n = 80 , p =  0.4 tested\n",
      "n = 80 , p =  0.6 tested\n",
      "n = 80 , p =  0.8 tested\n",
      "n = 100 , p =  0.2 tested\n",
      "n = 100 , p =  0.4 tested\n",
      "n = 100 , p =  0.6 tested\n",
      "n = 100 , p =  0.8 tested\n",
      "Optimal values:\n",
      "            20          40          60           80           100\n",
      "0.2  20.480390   96.402211  198.108485   325.860153   517.697193\n",
      "0.4  45.992434  161.016116  368.440385   648.039157  1021.470021\n",
      "0.6  68.245788  243.713372  544.725786   974.745598  1502.220736\n",
      "0.8  84.892674  323.356270  714.857894  1258.850306  1995.363747\n",
      "Time of execution:\n",
      "           20        40         60         80         100\n",
      "0.2  1.825647  8.452745  23.353299  41.375080  78.893934\n",
      "0.4  1.559878  8.446443  24.290554  38.089894  85.483747\n",
      "0.6  1.501492  8.705670  25.692618  39.091669  86.943622\n",
      "0.8  1.807911  7.605453  21.413884  37.643582  80.052236\n"
     ]
    }
   ],
   "source": [
    "# Min Un Cut test \n",
    "for n in params['n']:\n",
    "    for p in params['p']:\n",
    "        \n",
    "        t = time.time()\n",
    "        opt_obj = GD_Min_Un_Cut(graphs[get_key(n, p)], 1000)\n",
    "        t = time.time() - t\n",
    "        \n",
    "        W = graphs[get_key(n, p)]\n",
    "        gd_Min_Uncut_values.loc[p, n] = (W.sum() + 0.5 * opt_obj) * 0.25\n",
    "        gd_Min_Uncut_times.loc[p, n] = t\n",
    "        \n",
    "        print('n =', n, ', p = ', p, 'tested')\n",
    "        \n",
    "print('Optimal values:\\n', gd_Min_Uncut_values)\n",
    "print('Time of execution:\\n', gd_Min_Uncut_times)"
   ]
  },
  {
   "cell_type": "markdown",
   "metadata": {},
   "source": [
    "# SDP-relaxations"
   ]
  },
  {
   "cell_type": "code",
   "execution_count": 109,
   "metadata": {
    "collapsed": true
   },
   "outputs": [],
   "source": [
    "def Max_Cut_relaxation(W):\n",
    "    n = W.shape[0]\n",
    "    X = cvx.Semidef(n)\n",
    "    obj = cvx.Minimize(cvx.trace(W * X))\n",
    "    constraints = [cvx.diag(X) == 1]\n",
    "    prob = cvx.Problem(obj, constraints)\n",
    "    prob.solve()\n",
    "    return X.value, prob.value"
   ]
  },
  {
   "cell_type": "code",
   "execution_count": 110,
   "metadata": {
    "collapsed": true
   },
   "outputs": [],
   "source": [
    "def maxcut_with_triangle_constraints(W):\n",
    "    n = W.shape[0]\n",
    "    X = cvx.Semidef(n)\n",
    "    obj = cvx.Minimize(cvx.trace(W * X))\n",
    "    constraints = [cvx.diag(X) == 1]\n",
    "    for j in range(n):\n",
    "        E = np.zeros((n,n))\n",
    "        E[j,:] += 1\n",
    "        constraints.append(1- X*E - E.T * X >= -X)\n",
    "        constraints.append(-X*E-E.T*X - X <= 1)\n",
    "    prob = cvx.Problem(obj, constraints)\n",
    "    prob.solve(solver='SCS', max_iters=100)\n",
    "    print(prob.status)\n",
    "    return X.value, prob.value"
   ]
  },
  {
   "cell_type": "code",
   "execution_count": 111,
   "metadata": {
    "collapsed": true
   },
   "outputs": [],
   "source": [
    "def weights_transform(W):\n",
    "    n = W.shape[0]\n",
    "    W_new = np.zeros((2*n,2*n))\n",
    "    W_new[:n, n:] = W\n",
    "    W_new[n:, :n] = W\n",
    "    return W_new"
   ]
  },
  {
   "cell_type": "code",
   "execution_count": 124,
   "metadata": {
    "collapsed": true
   },
   "outputs": [],
   "source": [
    "def MinUnCut_relaxation(W):\n",
    "    n = W.shape[0]//2\n",
    "    X = cvx.Semidef(2*n)\n",
    "    obj = cvx.Maximize(cvx.trace(W * X))\n",
    "    constraints = [cvx.diag(X) == 1]\n",
    "    for i in range(n):\n",
    "        constraints.append(X[i, n + i] == -1)\n",
    "    prob = cvx.Problem(obj, constraints)\n",
    "    prob.solve()\n",
    "    return X.value, prob.value"
   ]
  },
  {
   "cell_type": "code",
   "execution_count": 122,
   "metadata": {
    "collapsed": true
   },
   "outputs": [],
   "source": [
    "def minuncut_with_triangle_constraints(W):\n",
    "    n = W.shape[0]//2\n",
    "    X = cvx.Semidef(2*n)\n",
    "    obj = cvx.Maximize(cvx.trace(W * X))\n",
    "    constraints = [cvx.diag(X) == 1]\n",
    "    for i in range(n):\n",
    "        constraints.append(X[i, n + i] == -1)\n",
    "    for j in range(2*n):\n",
    "        E = np.zeros((2*n,2*n))\n",
    "        E[j,:] += 1\n",
    "        constraints.append(1- X*E - E.T * X >= -X)\n",
    "        constraints.append(-X*E-E.T*X - X <= 1)\n",
    "    prob = cvx.Problem(obj, constraints)\n",
    "    prob.solve(solver='SCS', max_iters=100)\n",
    "    return X.value, prob.value"
   ]
  },
  {
   "cell_type": "code",
   "execution_count": 153,
   "metadata": {
    "collapsed": true
   },
   "outputs": [],
   "source": [
    "def SparsestCut_relaxation(W):\n",
    "    n = W.shape[0]\n",
    "    X = cvx.Semidef(n)\n",
    "    t = cvx.Variable()\n",
    "    \n",
    "    objective = cvx.Minimize(t*cvx.sum_entries(W) - cvx.trace(W*X))\n",
    "    constraints =[ -cvx.sum_entries(X) +  t*n**2 >= 1, t>=1.0/n**2, t<= 1.0/(4*(n-1)), cvx.diag(X) == t]\n",
    "\n",
    "    prob = cvx.Problem(objective, constraints)\n",
    "    prob.solve(solver='SCS')\n",
    "\n",
    "    return X.value, t.value, prob.value"
   ]
  },
  {
   "cell_type": "code",
   "execution_count": 145,
   "metadata": {
    "collapsed": false
   },
   "outputs": [],
   "source": [
    "def sparsest_cut_with_triangle_constraints(W):\n",
    "    n = W.shape[0]\n",
    "    X = cvx.Semidef(n)\n",
    "    t = cvx.Variable()\n",
    "\n",
    "    objective = cvx.Minimize(t*cvx.sum_entries(W) - cvx.trace(W*X))\n",
    "    constraints =[ -cvx.sum_entries(X) +  t*n**2 >= 1, t>=4.0/n**2, t<= 1.0/(n-1), cvx.diag(X) == t]\n",
    "    for j in range(n):\n",
    "        E = np.zeros((n,n))\n",
    "        E[j,:] += 1\n",
    "        constraints.append(t- X*E - E.T * X >= -X)\n",
    "        constraints.append(-X*E-E.T*X - X <= t)\n",
    "    prob = cvx.Problem(objective, constraints)\n",
    "    prob.solve()\n",
    "\n",
    "    return X.value, t.value, prob.value\n",
    "\n",
    "    A3 = np.zeros((2,2))\n",
    "    A3[1,0] += 1\n",
    "    objective = cvx.Minimize(t)\n",
    "    constraints =[t*A0 + A1 + t2*A2 + t1*A3 >> 0, t2 == -cvx.sum_entries(X) + n**2, t1 == W.sum() - cvx.trace(W*X), \n",
    "                  cvx.diag(X) == 1, t2 >= n-1]\n",
    "    for j in range(n):\n",
    "        E = np.zeros((n,n))\n",
    "        E[j,:] += 1\n",
    "        constraints.append(1- X*E - E.T * X >= -X)\n",
    "        constraints.append(-X*E-E.T*X - X <= 1)\n",
    "    prob = cvx.Problem(objective, constraints)\n",
    "    prob.solve(solver='SCS', max_iters=50)\n",
    "    return X.value, prob.value"
   ]
  },
  {
   "cell_type": "markdown",
   "metadata": {},
   "source": [
    "## Max-cut"
   ]
  },
  {
   "cell_type": "code",
   "execution_count": 116,
   "metadata": {
    "collapsed": true
   },
   "outputs": [],
   "source": [
    "# outputs of algorithm\n",
    "maxcut_values = np.zeros((params['p'].shape[0], params['n'].shape[0]))\n",
    "maxcut_values = pd.DataFrame(maxcut_values, index=params['p'], columns=params['n'])\n",
    "\n",
    "\n",
    "# time of execution\n",
    "rel_times = np.zeros((params['p'].shape[0], params['n'].shape[0]))\n",
    "rel_times = pd.DataFrame(rel_times, index=params['p'], columns=params['n'])"
   ]
  },
  {
   "cell_type": "code",
   "execution_count": 117,
   "metadata": {
    "collapsed": true
   },
   "outputs": [],
   "source": [
    "# outputs of algorithm\n",
    "no_tr_maxcut_values = np.zeros((params['p'].shape[0], params['n'].shape[0]))\n",
    "no_tr_maxcut_values = pd.DataFrame(no_tr_maxcut_values, index=params['p'], columns=params['n'])\n",
    "\n",
    "\n",
    "# time of execution\n",
    "no_tr_rel_times = np.zeros((params['p'].shape[0], params['n'].shape[0]))\n",
    "no_tr_rel_times = pd.DataFrame(no_tr_rel_times, index=params['p'], columns=params['n'])"
   ]
  },
  {
   "cell_type": "code",
   "execution_count": 118,
   "metadata": {
    "collapsed": false
   },
   "outputs": [
    {
     "name": "stdout",
     "output_type": "stream",
     "text": [
      "Optimal values:\n",
      "            20          40          60           80           100\n",
      "0.2  29.429075  130.128812  262.233445   430.726080   669.101873\n",
      "0.4  60.286282  203.670109  458.250110   782.844893  1214.615613\n",
      "0.6  81.152204  288.500151  631.255816  1108.898055  1702.134931\n",
      "0.8  95.359142  359.032522  787.564656  1376.713726  2159.430065\n",
      "Estimation:\n",
      "             20          40          60           80           100\n",
      "0.2   35.045056  122.553843  258.176402   440.360444   668.208835\n",
      "0.4   61.276922  220.180222  470.558128   810.215373  1237.883215\n",
      "0.6   86.058801  313.705419  675.405500  1168.470405  1791.346248\n",
      "0.8  110.090111  405.107686  876.352804  1520.720889  2336.417670\n",
      "Time of execution:\n",
      "           20        40        60        80        100\n",
      "0.2  0.034280  0.101418  0.331691  0.535867  1.057492\n",
      "0.4  0.032636  0.080624  0.260028  0.684516  1.370277\n",
      "0.6  0.022795  0.113248  0.288867  0.911601  1.373014\n",
      "0.8  0.036301  0.148022  0.370161  0.757674  1.972998\n"
     ]
    }
   ],
   "source": [
    "#without triangle constraints\n",
    "for n in params['n']:\n",
    "    for p in params['p']:\n",
    "        A = graphs[get_key(n,p)]\n",
    "        \n",
    "        t = time.time()\n",
    "        opt_x, opt_obj = Max_Cut_relaxation(A)\n",
    "        t = time.time() - t\n",
    "        \n",
    "        no_tr_maxcut_values.loc[p, n] = (A.sum()- opt_obj)/4\n",
    "        no_tr_rel_times.loc[p, n] = t\n",
    "        \n",
    "print('Optimal values:\\n', no_tr_maxcut_values)\n",
    "print('Estimation:\\n', max_cut_est_values)\n",
    "print('Time of execution:\\n', no_tr_rel_times)"
   ]
  },
  {
   "cell_type": "code",
   "execution_count": 119,
   "metadata": {
    "collapsed": false
   },
   "outputs": [
    {
     "name": "stdout",
     "output_type": "stream",
     "text": [
      "optimal_inaccurate\n",
      "optimal_inaccurate\n",
      "optimal_inaccurate\n",
      "optimal_inaccurate\n",
      "optimal_inaccurate\n",
      "optimal_inaccurate\n",
      "optimal_inaccurate\n",
      "optimal_inaccurate\n",
      "optimal_inaccurate\n",
      "optimal_inaccurate\n",
      "optimal_inaccurate\n",
      "optimal_inaccurate\n",
      "optimal_inaccurate\n",
      "optimal_inaccurate\n",
      "optimal_inaccurate\n",
      "optimal_inaccurate\n",
      "optimal_inaccurate\n",
      "optimal_inaccurate\n",
      "optimal_inaccurate\n",
      "optimal_inaccurate\n",
      "Optimal values:\n",
      "            20          40          60           80           100\n",
      "0.2  27.891607  124.438259  253.708823   420.792165   667.741173\n",
      "0.4  58.218397  197.525876  443.439515   780.335853  1214.781083\n",
      "0.6  78.756198  278.534561  632.140892  1149.005359  1730.524935\n",
      "0.8  93.401422  330.500775  807.900442  1528.203814  2388.861825\n",
      "Estimation:\n",
      "             20          40          60           80           100\n",
      "0.2   35.045056  122.553843  258.176402   440.360444   668.208835\n",
      "0.4   61.276922  220.180222  470.558128   810.215373  1237.883215\n",
      "0.6   86.058801  313.705419  675.405500  1168.470405  1791.346248\n",
      "0.8  110.090111  405.107686  876.352804  1520.720889  2336.417670\n",
      "Time of execution:\n",
      "           20        40        60         80         100\n",
      "0.2  0.276537  1.874202  6.227408  15.865747  31.877150\n",
      "0.4  0.238374  2.002168  5.987302  16.097594  34.618038\n",
      "0.6  0.313747  1.640704  7.582998  16.550395  31.338326\n",
      "0.8  0.244984  1.833730  6.129244  15.752917  37.577764\n"
     ]
    }
   ],
   "source": [
    "#with triangle constraints\n",
    "for n in params['n']:\n",
    "    for p in params['p']:\n",
    "        A = graphs[get_key(n,p)]\n",
    "        \n",
    "        t = time.time()\n",
    "        opt_x, opt_obj = maxcut_with_triangle_constraints(A)\n",
    "        t = time.time() - t\n",
    "        \n",
    "        maxcut_values.loc[p, n] = (A.sum()- opt_obj)/4\n",
    "        rel_times.loc[p, n] = t\n",
    "        \n",
    "print('Optimal values:\\n', maxcut_values)\n",
    "print('Estimation:\\n', max_cut_est_values)\n",
    "print('Time of execution:\\n', rel_times)"
   ]
  },
  {
   "cell_type": "markdown",
   "metadata": {},
   "source": [
    "## Min UnCut"
   ]
  },
  {
   "cell_type": "code",
   "execution_count": 125,
   "metadata": {
    "collapsed": true
   },
   "outputs": [],
   "source": [
    "# outputs of algorithm\n",
    "minuncut_values = np.zeros((params['p'].shape[0], params['n'].shape[0]))\n",
    "minuncut_values = pd.DataFrame(minuncut_values, index=params['p'], columns=params['n'])\n",
    "\n",
    "# time of execution\n",
    "minuncut_times = np.zeros((params['p'].shape[0], params['n'].shape[0]))\n",
    "minuncut_times = pd.DataFrame(minuncut_times, index=params['p'], columns=params['n'])"
   ]
  },
  {
   "cell_type": "code",
   "execution_count": 126,
   "metadata": {
    "collapsed": false
   },
   "outputs": [
    {
     "name": "stdout",
     "output_type": "stream",
     "text": [
      "Optimal values:\n",
      "            20          40          60           80           100\n",
      "0.2   3.571560   44.872762  106.772603   183.276765   318.907573\n",
      "0.4  22.715442   99.328873  249.748394   474.168385   779.390037\n",
      "0.6  45.848881  179.504169  428.746990   801.123661  1252.886558\n",
      "0.8  64.642342  267.969947  612.445216  1101.298644  1781.601798\n",
      "Estimation:\n",
      "            20          40          60          80           100\n",
      "0.2   1.348908   28.903599   87.478387  178.791262   303.835129\n",
      "0.4  12.451800   85.395631  225.639961  435.614396   716.723115\n",
      "0.6  25.159462  146.426641  372.140170  705.275698  1147.552986\n",
      "0.8  38.697816  209.807198  522.956774  981.582524  1587.670259\n",
      "Time of execution:\n",
      "           20        40        60         80         100\n",
      "0.2  0.276537  1.874202  6.227408  15.865747  31.877150\n",
      "0.4  0.238374  2.002168  5.987302  16.097594  34.618038\n",
      "0.6  0.313747  1.640704  7.582998  16.550395  31.338326\n",
      "0.8  0.244984  1.833730  6.129244  15.752917  37.577764\n"
     ]
    }
   ],
   "source": [
    "#without triangle constraints\n",
    "for n in params['n']:\n",
    "    for p in params['p']:\n",
    "        A = graphs[get_key(n,p)]\n",
    "        A_transformed = weights_transform(A)\n",
    "        \n",
    "        t = time.time()\n",
    "        opt_x, opt_obj = MinUnCut_relaxation(A_transformed)\n",
    "        t = time.time() - t\n",
    "        \n",
    "        minuncut_values.loc[p, n] =(2 * A.sum() - opt_obj)/8\n",
    "        minuncut_times.loc[p, n] = t\n",
    "        \n",
    "print('Optimal values:\\n', minuncut_values)\n",
    "print('Estimation:\\n', min_uncut_est_values)\n",
    "print('Time of execution:\\n', minuncut_times)"
   ]
  },
  {
   "cell_type": "code",
   "execution_count": 127,
   "metadata": {
    "collapsed": true
   },
   "outputs": [],
   "source": [
    "# outputs of algorithm\n",
    "tr_minuncut_values = np.zeros((params['p'].shape[0], params['n'].shape[0]))\n",
    "tr_minuncut_values = pd.DataFrame(minuncut_values, index=params['p'], columns=params['n'])\n",
    "\n",
    "# time of execution\n",
    "tr_minuncut_times = np.zeros((params['p'].shape[0], params['n'].shape[0]))\n",
    "tr_minuncut_times = pd.DataFrame(minuncut_times, index=params['p'], columns=params['n'])"
   ]
  },
  {
   "cell_type": "code",
   "execution_count": 185,
   "metadata": {
    "collapsed": false
   },
   "outputs": [
    {
     "name": "stdout",
     "output_type": "stream",
     "text": [
      "n = 20 p = 0.2 tested\n",
      "n = 20 p = 0.4 tested\n",
      "n = 20 p = 0.6 tested\n",
      "n = 20 p = 0.8 tested\n",
      "n = 40 p = 0.2 tested\n",
      "n = 40 p = 0.4 tested\n",
      "n = 40 p = 0.6 tested\n",
      "n = 40 p = 0.8 tested\n",
      "n = 60 p = 0.2 tested\n",
      "n = 60 p = 0.4 tested\n",
      "n = 60 p = 0.6 tested\n",
      "n = 60 p = 0.8 tested\n",
      "n = 80 p = 0.2 tested\n",
      "n = 80 p = 0.4 tested\n",
      "n = 80 p = 0.6 tested\n",
      "n = 80 p = 0.8 tested\n",
      "n = 100 p = 0.2 tested\n",
      "n = 100 p = 0.4 tested\n",
      "n = 100 p = 0.6 tested\n",
      "n = 100 p = 0.8 tested\n",
      "Optimal values:\n",
      "            20         40         60          80          100\n",
      "0.2   5.311028  32.291586  60.821678  111.420058  182.991256\n",
      "0.4  25.769137  24.955998  25.004866   90.698746  196.782995\n",
      "0.6  43.206710  34.119193  -0.291784   -0.489180   -0.476950\n",
      "0.8  54.575761  45.616032  -1.438780   15.638582  157.723956\n",
      "Estimation:\n",
      "            20          40          60           80           100\n",
      "0.2   2.954944   33.446157   95.823598   191.639556   321.791165\n",
      "0.4  14.723078   91.819778  237.441872   453.784627   742.116785\n",
      "0.6  27.941199  154.294581  386.594500   727.529595  1178.653752\n",
      "0.8  41.909889  218.892314  539.647196  1007.279111  1623.582330\n",
      "Time of execution:\n",
      "           20        40        60         80         100\n",
      "0.2  0.276537  1.874202  6.227408  15.865747  31.877150\n",
      "0.4  0.238374  2.002168  5.987302  16.097594  34.618038\n",
      "0.6  0.313747  1.640704  7.582998  16.550395  31.338326\n",
      "0.8  0.244984  1.833730  6.129244  15.752917  37.577764\n"
     ]
    }
   ],
   "source": [
    "#with triangle constraints\n",
    "for n in params['n']:\n",
    "    for p in params['p']:\n",
    "        A = graphs[get_key(n,p)]\n",
    "        A_transformed = weights_transform(A)\n",
    "        t = time.time()\n",
    "        opt_x, opt_obj = minuncut_with_triangle_constraints(A_transformed)\n",
    "        t = time.time() - t\n",
    "        \n",
    "        tr_minuncut_values.loc[p, n] = (2 * A.sum() - opt_obj)/8\n",
    "        tr_minuncut_times.loc[p, n] = t\n",
    "        \n",
    "        print('n =', n, 'p =', p, 'tested')\n",
    "        \n",
    "print('Optimal values:\\n', tr_minuncut_values)\n",
    "print('Estimation:\\n', min_uncut_est_values)\n",
    "print('Time of execution:\\n', rel_times)"
   ]
  },
  {
   "cell_type": "markdown",
   "metadata": {},
   "source": [
    "## Sparsest cut"
   ]
  },
  {
   "cell_type": "code",
   "execution_count": 176,
   "metadata": {
    "collapsed": false
   },
   "outputs": [],
   "source": [
    "# outputs of algorithm\n",
    "sdp_spcut_values_no_triangle = np.zeros((params['p'].shape[0], params['n'].shape[0]))\n",
    "sdp_spcut_values_no_triangle = pd.DataFrame(sdp_spcut_values_no_triangle, index=params['p'], columns=params['n'])\n",
    "#with triangle constraints\n",
    "sdp_spcut_values_with_triangle = np.zeros((params['p'].shape[0], params['n'].shape[0]))\n",
    "sdp_spcut_values_with_triangle = pd.DataFrame(sdp_spcut_values_with_triangle, index=params['p'], columns=params['n'])\n",
    "\n",
    "\n",
    "# time of execution\n",
    "sdp_spc_no_triangle_times = np.zeros((params['p'].shape[0], params['n'].shape[0]))\n",
    "sdp_spc_no_triangle_times = pd.DataFrame(sdp_spc_no_triangle_times, index=params['p'], columns=params['n'])\n",
    "\n",
    "sdp_spc_with_triangle_times = np.zeros((params['p'].shape[0], params['n'].shape[0]))\n",
    "sdp_spc_with_triangle_times = pd.DataFrame(sdp_spc_with_triangle_times, index=params['p'], columns=params['n'])"
   ]
  },
  {
   "cell_type": "code",
   "execution_count": 177,
   "metadata": {
    "collapsed": false
   },
   "outputs": [
    {
     "name": "stdout",
     "output_type": "stream",
     "text": [
      "n = 20 p = 0.2 tested\n",
      "n = 20 p = 0.4 tested\n",
      "n = 20 p = 0.6 tested\n",
      "n = 20 p = 0.8 tested\n",
      "n = 40 p = 0.2 tested\n",
      "n = 40 p = 0.4 tested\n",
      "n = 40 p = 0.6 tested\n",
      "n = 40 p = 0.8 tested\n",
      "n = 60 p = 0.2 tested\n",
      "n = 60 p = 0.4 tested\n",
      "n = 60 p = 0.6 tested\n",
      "n = 60 p = 0.8 tested\n",
      "n = 80 p = 0.2 tested\n",
      "n = 80 p = 0.4 tested\n",
      "n = 80 p = 0.6 tested\n",
      "n = 80 p = 0.8 tested\n",
      "n = 100 p = 0.2 tested\n",
      "n = 100 p = 0.4 tested\n",
      "n = 100 p = 0.6 tested\n",
      "n = 100 p = 0.8 tested\n",
      "Optimal values:\n",
      "           20        40        60        80        100\n",
      "0.2  0.028951  0.060978  0.074325  0.081575  0.095858\n",
      "0.4  0.143840  0.216840  0.214164  0.269137  0.277123\n",
      "0.6  0.295262  0.314169  0.421538  0.458599  0.456832\n",
      "0.8  0.637243  0.612900  0.626172  0.647002  0.662418\n",
      "Estimation:\n",
      "           20        40        60         80         100\n",
      "0.2  1.025329  2.124908  2.887202   3.502232   4.229240\n",
      "0.4  2.338375  4.115762  5.009964   6.483546   7.343849\n",
      "0.6  3.390212  4.963901  7.028810   8.478370   9.403919\n",
      "0.8  5.020892  6.958765  8.597282  10.061558  11.374313\n",
      "Time of execution:\n",
      "           20        40        60        80         100\n",
      "0.2  0.122566  0.437686  4.229567  8.167993  13.306034\n",
      "0.4  0.090401  2.008207  4.301947  8.073045  13.029793\n",
      "0.6  0.073064  0.345793  4.124639  7.547308  12.388145\n",
      "0.8  0.091485  0.527710  4.093330  7.581847  12.323894\n"
     ]
    }
   ],
   "source": [
    "#without triangle constraints\n",
    "for n in params['n']:\n",
    "    for p in params['p']:\n",
    "        A = graphs[get_key(n,p)]\n",
    "        \n",
    "        t = time.time()\n",
    "        opt_x, opt_t, opt_obj = SparsestCut_relaxation(A)\n",
    "        t = time.time() - t\n",
    "        \n",
    "        sdp_spcut_values_no_triangle.loc[p, n] =  opt_obj\n",
    "        sdp_spc_no_triangle_times.loc[p, n] = t\n",
    "        \n",
    "        print('n =', n, 'p =', p, 'tested')\n",
    "        \n",
    "print('Optimal values:\\n', sdp_spcut_values_no_triangle)\n",
    "print('Estimation:\\n', sp_cut_est_values)\n",
    "print('Time of execution:\\n', sdp_spc_no_triangle_times)"
   ]
  },
  {
   "cell_type": "code",
   "execution_count": 152,
   "metadata": {
    "collapsed": false
   },
   "outputs": [
    {
     "name": "stdout",
     "output_type": "stream",
     "text": [
      "n = 20 p = 0.2 tested\n",
      "n = 20 p = 0.4 tested\n",
      "n = 20 p = 0.6 tested\n",
      "n = 20 p = 0.8 tested\n",
      "n = 40 p = 0.2 tested\n",
      "n = 40 p = 0.4 tested\n",
      "n = 40 p = 0.6 tested\n",
      "n = 40 p = 0.8 tested\n",
      "n = 60 p = 0.2 tested\n",
      "n = 60 p = 0.4 tested\n",
      "n = 60 p = 0.6 tested\n",
      "n = 60 p = 0.8 tested\n",
      "n = 80 p = 0.2 tested\n",
      "Failure:Interrupted\n"
     ]
    },
    {
     "ename": "KeyError",
     "evalue": "'Interrupted'",
     "output_type": "error",
     "traceback": [
      "\u001b[0;31m---------------------------------------------------------------------------\u001b[0m",
      "\u001b[0;31mKeyError\u001b[0m                                  Traceback (most recent call last)",
      "\u001b[0;32m<ipython-input-152-85966d252224>\u001b[0m in \u001b[0;36m<module>\u001b[0;34m()\u001b[0m\n\u001b[1;32m      5\u001b[0m \u001b[0;34m\u001b[0m\u001b[0m\n\u001b[1;32m      6\u001b[0m         \u001b[0mt\u001b[0m \u001b[0;34m=\u001b[0m \u001b[0mtime\u001b[0m\u001b[0;34m.\u001b[0m\u001b[0mtime\u001b[0m\u001b[0;34m(\u001b[0m\u001b[0;34m)\u001b[0m\u001b[0;34m\u001b[0m\u001b[0m\n\u001b[0;32m----> 7\u001b[0;31m         \u001b[0mopt_x\u001b[0m\u001b[0;34m,\u001b[0m \u001b[0mopt_t\u001b[0m\u001b[0;34m,\u001b[0m \u001b[0mopt_obj\u001b[0m \u001b[0;34m=\u001b[0m \u001b[0msparsest_cut_with_triangle_constraints\u001b[0m\u001b[0;34m(\u001b[0m\u001b[0mA\u001b[0m\u001b[0;34m)\u001b[0m\u001b[0;34m\u001b[0m\u001b[0m\n\u001b[0m\u001b[1;32m      8\u001b[0m         \u001b[0mt\u001b[0m \u001b[0;34m=\u001b[0m \u001b[0mtime\u001b[0m\u001b[0;34m.\u001b[0m\u001b[0mtime\u001b[0m\u001b[0;34m(\u001b[0m\u001b[0;34m)\u001b[0m \u001b[0;34m-\u001b[0m \u001b[0mt\u001b[0m\u001b[0;34m\u001b[0m\u001b[0m\n\u001b[1;32m      9\u001b[0m \u001b[0;34m\u001b[0m\u001b[0m\n",
      "\u001b[0;32m<ipython-input-145-76bf4ffe7b80>\u001b[0m in \u001b[0;36msparsest_cut_with_triangle_constraints\u001b[0;34m(W)\u001b[0m\n\u001b[1;32m     12\u001b[0m         \u001b[0mconstraints\u001b[0m\u001b[0;34m.\u001b[0m\u001b[0mappend\u001b[0m\u001b[0;34m(\u001b[0m\u001b[0;34m-\u001b[0m\u001b[0mX\u001b[0m\u001b[0;34m*\u001b[0m\u001b[0mE\u001b[0m\u001b[0;34m-\u001b[0m\u001b[0mE\u001b[0m\u001b[0;34m.\u001b[0m\u001b[0mT\u001b[0m\u001b[0;34m*\u001b[0m\u001b[0mX\u001b[0m \u001b[0;34m-\u001b[0m \u001b[0mX\u001b[0m \u001b[0;34m<=\u001b[0m \u001b[0mt\u001b[0m\u001b[0;34m)\u001b[0m\u001b[0;34m\u001b[0m\u001b[0m\n\u001b[1;32m     13\u001b[0m     \u001b[0mprob\u001b[0m \u001b[0;34m=\u001b[0m \u001b[0mcvx\u001b[0m\u001b[0;34m.\u001b[0m\u001b[0mProblem\u001b[0m\u001b[0;34m(\u001b[0m\u001b[0mobjective\u001b[0m\u001b[0;34m,\u001b[0m \u001b[0mconstraints\u001b[0m\u001b[0;34m)\u001b[0m\u001b[0;34m\u001b[0m\u001b[0m\n\u001b[0;32m---> 14\u001b[0;31m     \u001b[0mprob\u001b[0m\u001b[0;34m.\u001b[0m\u001b[0msolve\u001b[0m\u001b[0;34m(\u001b[0m\u001b[0;34m)\u001b[0m\u001b[0;34m\u001b[0m\u001b[0m\n\u001b[0m\u001b[1;32m     15\u001b[0m \u001b[0;34m\u001b[0m\u001b[0m\n\u001b[1;32m     16\u001b[0m     \u001b[0;32mreturn\u001b[0m \u001b[0mX\u001b[0m\u001b[0;34m.\u001b[0m\u001b[0mvalue\u001b[0m\u001b[0;34m,\u001b[0m \u001b[0mt\u001b[0m\u001b[0;34m.\u001b[0m\u001b[0mvalue\u001b[0m\u001b[0;34m,\u001b[0m \u001b[0mprob\u001b[0m\u001b[0;34m.\u001b[0m\u001b[0mvalue\u001b[0m\u001b[0;34m\u001b[0m\u001b[0m\n",
      "\u001b[0;32m/Users/nikita/anaconda/lib/python3.6/site-packages/cvxpy/problems/problem.py\u001b[0m in \u001b[0;36msolve\u001b[0;34m(self, *args, **kwargs)\u001b[0m\n\u001b[1;32m    208\u001b[0m             \u001b[0;32mreturn\u001b[0m \u001b[0mfunc\u001b[0m\u001b[0;34m(\u001b[0m\u001b[0mself\u001b[0m\u001b[0;34m,\u001b[0m \u001b[0;34m*\u001b[0m\u001b[0margs\u001b[0m\u001b[0;34m,\u001b[0m \u001b[0;34m**\u001b[0m\u001b[0mkwargs\u001b[0m\u001b[0;34m)\u001b[0m\u001b[0;34m\u001b[0m\u001b[0m\n\u001b[1;32m    209\u001b[0m         \u001b[0;32melse\u001b[0m\u001b[0;34m:\u001b[0m\u001b[0;34m\u001b[0m\u001b[0m\n\u001b[0;32m--> 210\u001b[0;31m             \u001b[0;32mreturn\u001b[0m \u001b[0mself\u001b[0m\u001b[0;34m.\u001b[0m\u001b[0m_solve\u001b[0m\u001b[0;34m(\u001b[0m\u001b[0;34m*\u001b[0m\u001b[0margs\u001b[0m\u001b[0;34m,\u001b[0m \u001b[0;34m**\u001b[0m\u001b[0mkwargs\u001b[0m\u001b[0;34m)\u001b[0m\u001b[0;34m\u001b[0m\u001b[0m\n\u001b[0m\u001b[1;32m    211\u001b[0m \u001b[0;34m\u001b[0m\u001b[0m\n\u001b[1;32m    212\u001b[0m     \u001b[0;34m@\u001b[0m\u001b[0mclassmethod\u001b[0m\u001b[0;34m\u001b[0m\u001b[0m\n",
      "\u001b[0;32m/Users/nikita/anaconda/lib/python3.6/site-packages/cvxpy/problems/problem.py\u001b[0m in \u001b[0;36m_solve\u001b[0;34m(self, solver, ignore_dcp, warm_start, verbose, parallel, **kwargs)\u001b[0m\n\u001b[1;32m    330\u001b[0m             results_dict = solver.solve(objective, constraints,\n\u001b[1;32m    331\u001b[0m                                         \u001b[0mself\u001b[0m\u001b[0;34m.\u001b[0m\u001b[0m_cached_data\u001b[0m\u001b[0;34m,\u001b[0m \u001b[0mwarm_start\u001b[0m\u001b[0;34m,\u001b[0m \u001b[0mverbose\u001b[0m\u001b[0;34m,\u001b[0m\u001b[0;34m\u001b[0m\u001b[0m\n\u001b[0;32m--> 332\u001b[0;31m                                         kwargs)\n\u001b[0m\u001b[1;32m    333\u001b[0m         \u001b[0;31m# Presolve determined problem was unbounded or infeasible.\u001b[0m\u001b[0;34m\u001b[0m\u001b[0;34m\u001b[0m\u001b[0m\n\u001b[1;32m    334\u001b[0m         \u001b[0;32melse\u001b[0m\u001b[0;34m:\u001b[0m\u001b[0;34m\u001b[0m\u001b[0m\n",
      "\u001b[0;32m/Users/nikita/anaconda/lib/python3.6/site-packages/cvxpy/problems/solvers/scs_intf.py\u001b[0m in \u001b[0;36msolve\u001b[0;34m(self, objective, constraints, cached_data, warm_start, verbose, solver_opts)\u001b[0m\n\u001b[1;32m    109\u001b[0m \u001b[0;34m\u001b[0m\u001b[0m\n\u001b[1;32m    110\u001b[0m         \u001b[0mresults_dict\u001b[0m \u001b[0;34m=\u001b[0m \u001b[0mscs\u001b[0m\u001b[0;34m.\u001b[0m\u001b[0msolve\u001b[0m\u001b[0;34m(\u001b[0m\u001b[0mscs_args\u001b[0m\u001b[0;34m,\u001b[0m \u001b[0mdata\u001b[0m\u001b[0;34m[\u001b[0m\u001b[0ms\u001b[0m\u001b[0;34m.\u001b[0m\u001b[0mDIMS\u001b[0m\u001b[0;34m]\u001b[0m\u001b[0;34m,\u001b[0m \u001b[0;34m**\u001b[0m\u001b[0msolver_opts\u001b[0m\u001b[0;34m)\u001b[0m\u001b[0;34m\u001b[0m\u001b[0m\n\u001b[0;32m--> 111\u001b[0;31m         \u001b[0;32mreturn\u001b[0m \u001b[0mself\u001b[0m\u001b[0;34m.\u001b[0m\u001b[0mformat_results\u001b[0m\u001b[0;34m(\u001b[0m\u001b[0mresults_dict\u001b[0m\u001b[0;34m,\u001b[0m \u001b[0mdata\u001b[0m\u001b[0;34m,\u001b[0m \u001b[0mcached_data\u001b[0m\u001b[0;34m)\u001b[0m\u001b[0;34m\u001b[0m\u001b[0m\n\u001b[0m\u001b[1;32m    112\u001b[0m \u001b[0;34m\u001b[0m\u001b[0m\n\u001b[1;32m    113\u001b[0m     \u001b[0;32mdef\u001b[0m \u001b[0mformat_results\u001b[0m\u001b[0;34m(\u001b[0m\u001b[0mself\u001b[0m\u001b[0;34m,\u001b[0m \u001b[0mresults_dict\u001b[0m\u001b[0;34m,\u001b[0m \u001b[0mdata\u001b[0m\u001b[0;34m,\u001b[0m \u001b[0mcached_data\u001b[0m\u001b[0;34m)\u001b[0m\u001b[0;34m:\u001b[0m\u001b[0;34m\u001b[0m\u001b[0m\n",
      "\u001b[0;32m/Users/nikita/anaconda/lib/python3.6/site-packages/cvxpy/problems/solvers/scs_intf.py\u001b[0m in \u001b[0;36mformat_results\u001b[0;34m(self, results_dict, data, cached_data)\u001b[0m\n\u001b[1;32m    131\u001b[0m         \u001b[0mdims\u001b[0m \u001b[0;34m=\u001b[0m \u001b[0mdata\u001b[0m\u001b[0;34m[\u001b[0m\u001b[0ms\u001b[0m\u001b[0;34m.\u001b[0m\u001b[0mDIMS\u001b[0m\u001b[0;34m]\u001b[0m\u001b[0;34m\u001b[0m\u001b[0m\n\u001b[1;32m    132\u001b[0m         \u001b[0mnew_results\u001b[0m \u001b[0;34m=\u001b[0m \u001b[0;34m{\u001b[0m\u001b[0;34m}\u001b[0m\u001b[0;34m\u001b[0m\u001b[0m\n\u001b[0;32m--> 133\u001b[0;31m         \u001b[0mstatus\u001b[0m \u001b[0;34m=\u001b[0m \u001b[0mself\u001b[0m\u001b[0;34m.\u001b[0m\u001b[0mSTATUS_MAP\u001b[0m\u001b[0;34m[\u001b[0m\u001b[0mresults_dict\u001b[0m\u001b[0;34m[\u001b[0m\u001b[0;34m\"info\"\u001b[0m\u001b[0;34m]\u001b[0m\u001b[0;34m[\u001b[0m\u001b[0;34m\"status\"\u001b[0m\u001b[0;34m]\u001b[0m\u001b[0;34m]\u001b[0m\u001b[0;34m\u001b[0m\u001b[0m\n\u001b[0m\u001b[1;32m    134\u001b[0m         \u001b[0mnew_results\u001b[0m\u001b[0;34m[\u001b[0m\u001b[0ms\u001b[0m\u001b[0;34m.\u001b[0m\u001b[0mSTATUS\u001b[0m\u001b[0;34m]\u001b[0m \u001b[0;34m=\u001b[0m \u001b[0mstatus\u001b[0m\u001b[0;34m\u001b[0m\u001b[0m\n\u001b[1;32m    135\u001b[0m \u001b[0;34m\u001b[0m\u001b[0m\n",
      "\u001b[0;31mKeyError\u001b[0m: 'Interrupted'"
     ]
    }
   ],
   "source": [
    "#with triangle constraints\n",
    "\n",
    "# WORKED VERY SLOWLY !!!\n",
    "for n in params['n']:\n",
    "    for p in params['p']:\n",
    "        A = graphs[get_key(n,p)]\n",
    "        \n",
    "        t = time.time()\n",
    "        opt_x, opt_t, opt_obj = sparsest_cut_with_triangle_constraints(A)\n",
    "        t = time.time() - t\n",
    "        \n",
    "        sdp_spcut_values_with_triangle.loc[p, n] =  opt_obj\n",
    "        sdp_spc_with_triangle_times.loc[p, n] = t\n",
    "        \n",
    "        print('n =', n, 'p =', p, 'tested')\n",
    "        \n",
    "        \n",
    "print('Optimal values:\\n', sdp_spcut_values_with_triangle)\n",
    "print('Estimation:\\n', sp_cut_est_values)\n",
    "print('Time of execution:\\n', sdp_spc_with_triangle_times)"
   ]
  },
  {
   "cell_type": "markdown",
   "metadata": {},
   "source": [
    "# Alena's results"
   ]
  },
  {
   "cell_type": "code",
   "execution_count": 186,
   "metadata": {
    "collapsed": false
   },
   "outputs": [
    {
     "name": "stdout",
     "output_type": "stream",
     "text": [
      "SDP Max-Cut\n",
      "without triangle constraints\n",
      "\\begin{tabular}{lrrrrr}\n",
      "\\toprule\n",
      "{} &        20  &         40  &         60  &          80  &          100 \\\\\n",
      "\\midrule\n",
      "0.2 &  27.891607 &  124.438259 &  253.708823 &   420.792165 &   667.741173 \\\\\n",
      "0.4 &  58.218397 &  197.525876 &  443.439515 &   780.335853 &  1214.781083 \\\\\n",
      "0.6 &  78.756198 &  278.534561 &  632.140892 &  1149.005359 &  1730.524935 \\\\\n",
      "0.8 &  93.401422 &  330.500775 &  807.900442 &  1528.203814 &  2388.861825 \\\\\n",
      "\\bottomrule\n",
      "\\end{tabular}\n",
      "\n",
      "\\begin{tabular}{lrrrrr}\n",
      "\\toprule\n",
      "{} &       20  &       40  &       60  &        80  &        100 \\\\\n",
      "\\midrule\n",
      "0.2 &  0.276537 &  1.874202 &  6.227408 &  15.865747 &  31.877150 \\\\\n",
      "0.4 &  0.238374 &  2.002168 &  5.987302 &  16.097594 &  34.618038 \\\\\n",
      "0.6 &  0.313747 &  1.640704 &  7.582998 &  16.550395 &  31.338326 \\\\\n",
      "0.8 &  0.244984 &  1.833730 &  6.129244 &  15.752917 &  37.577764 \\\\\n",
      "\\bottomrule\n",
      "\\end{tabular}\n",
      "\n",
      "with triangle constraints\n",
      "\\begin{tabular}{lrrrrr}\n",
      "\\toprule\n",
      "{} &        20  &         40  &         60  &          80  &          100 \\\\\n",
      "\\midrule\n",
      "0.2 &  29.429075 &  130.128812 &  262.233445 &   430.726080 &   669.101873 \\\\\n",
      "0.4 &  60.286282 &  203.670109 &  458.250110 &   782.844893 &  1214.615613 \\\\\n",
      "0.6 &  81.152204 &  288.500151 &  631.255816 &  1108.898055 &  1702.134931 \\\\\n",
      "0.8 &  95.359142 &  359.032522 &  787.564656 &  1376.713726 &  2159.430065 \\\\\n",
      "\\bottomrule\n",
      "\\end{tabular}\n",
      "\n",
      "\\begin{tabular}{lrrrrr}\n",
      "\\toprule\n",
      "{} &       20  &       40  &       60  &       80  &       100 \\\\\n",
      "\\midrule\n",
      "0.2 &  0.034280 &  0.101418 &  0.331691 &  0.535867 &  1.057492 \\\\\n",
      "0.4 &  0.032636 &  0.080624 &  0.260028 &  0.684516 &  1.370277 \\\\\n",
      "0.6 &  0.022795 &  0.113248 &  0.288867 &  0.911601 &  1.373014 \\\\\n",
      "0.8 &  0.036301 &  0.148022 &  0.370161 &  0.757674 &  1.972998 \\\\\n",
      "\\bottomrule\n",
      "\\end{tabular}\n",
      "\n",
      "SDP Min Uncut\n",
      "without triangle constraints\n",
      "\\begin{tabular}{lrrrrr}\n",
      "\\toprule\n",
      "{} &        20  &        40  &        60  &         80  &         100 \\\\\n",
      "\\midrule\n",
      "0.2 &   5.311028 &  32.291586 &  60.821678 &  111.420058 &  182.991256 \\\\\n",
      "0.4 &  25.769137 &  24.955998 &  25.004866 &   90.698746 &  196.782995 \\\\\n",
      "0.6 &  43.206710 &  34.119193 &  -0.291784 &   -0.489180 &   -0.476950 \\\\\n",
      "0.8 &  54.575761 &  45.616032 &  -1.438780 &   15.638582 &  157.723956 \\\\\n",
      "\\bottomrule\n",
      "\\end{tabular}\n",
      "\n",
      "\\begin{tabular}{lrrrrr}\n",
      "\\toprule\n",
      "{} &       20  &        40  &        60  &         80  &         100 \\\\\n",
      "\\midrule\n",
      "0.2 &  1.891610 &  17.720651 &  59.362462 &  166.890099 &  335.293591 \\\\\n",
      "0.4 &  1.860441 &  16.627248 &  64.543724 &  165.789917 &  368.790112 \\\\\n",
      "0.6 &  1.721543 &  15.338730 &  58.540849 &  165.369444 &  356.151032 \\\\\n",
      "0.8 &  2.437016 &  15.575707 &  57.716866 &  155.691606 &  364.074897 \\\\\n",
      "\\bottomrule\n",
      "\\end{tabular}\n",
      "\n",
      "with triangle constraints\n",
      "\\begin{tabular}{lrrrrr}\n",
      "\\toprule\n",
      "{} &        20  &        40  &        60  &         80  &         100 \\\\\n",
      "\\midrule\n",
      "0.2 &   5.311028 &  32.291586 &  60.821678 &  111.420058 &  182.991256 \\\\\n",
      "0.4 &  25.769137 &  24.955998 &  25.004866 &   90.698746 &  196.782995 \\\\\n",
      "0.6 &  43.206710 &  34.119193 &  -0.291784 &   -0.489180 &   -0.476950 \\\\\n",
      "0.8 &  54.575761 &  45.616032 &  -1.438780 &   15.638582 &  157.723956 \\\\\n",
      "\\bottomrule\n",
      "\\end{tabular}\n",
      "\n",
      "\\begin{tabular}{lrrrrr}\n",
      "\\toprule\n",
      "{} &       20  &        40  &        60  &         80  &         100 \\\\\n",
      "\\midrule\n",
      "0.2 &  1.891610 &  17.720651 &  59.362462 &  166.890099 &  335.293591 \\\\\n",
      "0.4 &  1.860441 &  16.627248 &  64.543724 &  165.789917 &  368.790112 \\\\\n",
      "0.6 &  1.721543 &  15.338730 &  58.540849 &  165.369444 &  356.151032 \\\\\n",
      "0.8 &  2.437016 &  15.575707 &  57.716866 &  155.691606 &  364.074897 \\\\\n",
      "\\bottomrule\n",
      "\\end{tabular}\n",
      "\n",
      "SDP Sparsest Cut\n",
      "without triangle constraints\n",
      "\\begin{tabular}{lrrrrr}\n",
      "\\toprule\n",
      "{} &       20  &       40  &       60  &       80  &       100 \\\\\n",
      "\\midrule\n",
      "0.2 &  0.028951 &  0.060978 &  0.074325 &  0.081575 &  0.095858 \\\\\n",
      "0.4 &  0.143840 &  0.216840 &  0.214164 &  0.269137 &  0.277123 \\\\\n",
      "0.6 &  0.295262 &  0.314169 &  0.421538 &  0.458599 &  0.456832 \\\\\n",
      "0.8 &  0.637243 &  0.612900 &  0.626172 &  0.647002 &  0.662418 \\\\\n",
      "\\bottomrule\n",
      "\\end{tabular}\n",
      "\n",
      "\\begin{tabular}{lrrrrr}\n",
      "\\toprule\n",
      "{} &       20  &       40  &       60  &       80  &        100 \\\\\n",
      "\\midrule\n",
      "0.2 &  0.122566 &  0.437686 &  4.229567 &  8.167993 &  13.306034 \\\\\n",
      "0.4 &  0.090401 &  2.008207 &  4.301947 &  8.073045 &  13.029793 \\\\\n",
      "0.6 &  0.073064 &  0.345793 &  4.124639 &  7.547308 &  12.388145 \\\\\n",
      "0.8 &  0.091485 &  0.527710 &  4.093330 &  7.581847 &  12.323894 \\\\\n",
      "\\bottomrule\n",
      "\\end{tabular}\n",
      "\n"
     ]
    }
   ],
   "source": [
    "print('SDP Max-Cut')\n",
    "print('without triangle constraints')\n",
    "sdp_max_cut_quality = maxcut_values\n",
    "sdp_max_cut_times = rel_times\n",
    "print(sdp_max_cut_quality.to_latex())\n",
    "print(sdp_max_cut_times.to_latex())\n",
    "\n",
    "print('with triangle constraints')\n",
    "sdp_no_tr_max_cut_quality = no_tr_maxcut_values\n",
    "sdp_no_tr_max_cut_times = no_tr_rel_times\n",
    "print(sdp_no_tr_max_cut_quality.to_latex())\n",
    "print(sdp_no_tr_max_cut_times.to_latex())\n",
    "\n",
    "print('SDP Min Uncut')\n",
    "print('without triangle constraints')\n",
    "sdp_min_uncut_quality = minuncut_values\n",
    "sdp_min_uncut_times = minuncut_times\n",
    "print(sdp_min_uncut_quality.to_latex())\n",
    "print(sdp_min_uncut_times.to_latex())\n",
    "      \n",
    "      \n",
    "print('with triangle constraints')\n",
    "sdp_tr_min_uncut_quality = tr_minuncut_values\n",
    "sdp_tr_min_uncut_times = tr_minuncut_times\n",
    "print(sdp_tr_min_uncut_quality.to_latex())\n",
    "print(sdp_tr_min_uncut_times.to_latex())\n",
    "\n",
    "print('SDP Sparsest Cut')\n",
    "print('without triangle constraints')\n",
    "sdp_sp_cut_quality = sdp_spcut_values_no_triangle\n",
    "sdp_sp_cut_times = sdp_spc_no_triangle_times\n",
    "print(sdp_sp_cut_quality.to_latex())\n",
    "print(sdp_sp_cut_times.to_latex())"
   ]
  },
  {
   "cell_type": "markdown",
   "metadata": {},
   "source": [
    "# Marina's results"
   ]
  },
  {
   "cell_type": "code",
   "execution_count": 183,
   "metadata": {
    "collapsed": false
   },
   "outputs": [
    {
     "name": "stdout",
     "output_type": "stream",
     "text": [
      "LP Max-Cut\n",
      "\\begin{tabular}{lrrrrr}\n",
      "\\toprule\n",
      "{} &        20  &         40  &         60  &         80  &          100 \\\\\n",
      "\\midrule\n",
      "0.2 &  12.374781 &   65.629918 &  138.386599 &  230.248402 &   370.509735 \\\\\n",
      "0.4 &  31.127516 &  113.624691 &  265.500843 &  471.378152 &   747.758466 \\\\\n",
      "0.6 &  47.629592 &  175.500947 &  397.500842 &  716.251030 &  1108.126786 \\\\\n",
      "0.8 &  60.003232 &  235.132637 &  525.013863 &  929.332810 &  1477.925121 \\\\\n",
      "\\bottomrule\n",
      "\\end{tabular}\n",
      "\n",
      "\\begin{tabular}{lrrrrr}\n",
      "\\toprule\n",
      "{} &       20  &       40  &       60  &       80  &       100 \\\\\n",
      "\\midrule\n",
      "0.2 &  0.013428 &  0.028338 &  0.047363 &  0.086294 &  0.148773 \\\\\n",
      "0.4 &  0.011856 &  0.056529 &  0.050932 &  0.125852 &  0.236400 \\\\\n",
      "0.6 &  0.012826 &  0.028367 &  0.071739 &  0.186027 &  0.354341 \\\\\n",
      "0.8 &  0.012313 &  0.032294 &  0.068754 &  0.134669 &  0.247148 \\\\\n",
      "\\bottomrule\n",
      "\\end{tabular}\n",
      "\n",
      "LP Min Uncut\n",
      "\\begin{tabular}{lrrrrr}\n",
      "\\toprule\n",
      "{} &        20  &         40  &         60  &          80  &          100 \\\\\n",
      "\\midrule\n",
      "0.2 &  20.625516 &  109.373558 &  230.628054 &   383.755518 &   617.451226 \\\\\n",
      "0.4 &  51.876599 &  189.373887 &  442.495832 &   785.628966 &  1246.246914 \\\\\n",
      "0.6 &  79.375447 &  292.499432 &  662.477723 &  1193.733360 &  1846.903638 \\\\\n",
      "0.8 &  99.998919 &  391.877859 &  875.001162 &  1548.748177 &  2463.162666 \\\\\n",
      "\\bottomrule\n",
      "\\end{tabular}\n",
      "\n",
      "\\begin{tabular}{lrrrrr}\n",
      "\\toprule\n",
      "{} &       20  &       40  &       60  &       80  &       100 \\\\\n",
      "\\midrule\n",
      "0.2 &  0.029958 &  0.111946 &  0.347665 &  0.509658 &  0.765721 \\\\\n",
      "0.4 &  0.028274 &  0.113997 &  0.318581 &  0.606641 &  0.901005 \\\\\n",
      "0.6 &  0.032696 &  0.103831 &  0.280712 &  0.534633 &  1.001389 \\\\\n",
      "0.8 &  0.036837 &  0.108554 &  0.322009 &  0.584454 &  1.082593 \\\\\n",
      "\\bottomrule\n",
      "\\end{tabular}\n",
      "\n",
      "LP Sparsest Cut\n",
      "\\begin{tabular}{lrrrrr}\n",
      "\\toprule\n",
      "{} &       20  &       40  &       60  &       80  &       100 \\\\\n",
      "\\midrule\n",
      "0.2 &  0.298821 &  0.366473 &  0.345016 &  0.325384 &  0.332736 \\\\\n",
      "0.4 &  0.610984 &  0.559551 &  0.571442 &  0.569160 &  0.574307 \\\\\n",
      "0.6 &  0.827207 &  0.750154 &  0.749124 &  0.753448 &  0.747620 \\\\\n",
      "0.8 &  0.945677 &  0.901116 &  0.885715 &  0.879609 &  0.886595 \\\\\n",
      "\\bottomrule\n",
      "\\end{tabular}\n",
      "\n",
      "\\begin{tabular}{lrrrrr}\n",
      "\\toprule\n",
      "{} &       20  &       40  &       60  &       80  &        100 \\\\\n",
      "\\midrule\n",
      "0.2 &  0.117843 &  0.718436 &  2.739953 &  7.626631 &  12.672801 \\\\\n",
      "0.4 &  0.096559 &  0.749443 &  2.699008 &  7.180649 &  13.982816 \\\\\n",
      "0.6 &  0.096460 &  0.777362 &  2.926412 &  8.385034 &  14.511220 \\\\\n",
      "0.8 &  0.105442 &  0.776333 &  2.823051 &  8.213174 &  13.481095 \\\\\n",
      "\\bottomrule\n",
      "\\end{tabular}\n",
      "\n",
      "Gradient descent results\n",
      "GD Max-Cut\n",
      "\\begin{tabular}{lrrrrr}\n",
      "\\toprule\n",
      "{} &        20  &         40  &         60  &          80  &          100 \\\\\n",
      "\\midrule\n",
      "0.2 &  11.595010 &   70.732211 &  154.076731 &   264.365501 &   432.525958 \\\\\n",
      "0.4 &  32.152224 &  128.122607 &  308.316608 &   555.439156 &   898.486811 \\\\\n",
      "0.6 &  48.141263 &  195.779247 &  460.388988 &   841.820882 &  1329.801151 \\\\\n",
      "0.8 &  58.029009 &  256.156063 &  589.855538 &  1079.012900 &  1736.087154 \\\\\n",
      "\\bottomrule\n",
      "\\end{tabular}\n",
      "\n",
      "\\begin{tabular}{lrrrrr}\n",
      "\\toprule\n",
      "{} &       20  &       40  &       60  &       80  &        100 \\\\\n",
      "\\midrule\n",
      "0.2 &  0.415974 &  1.750458 &  3.857480 &  9.020489 &  15.484402 \\\\\n",
      "0.4 &  0.482390 &  1.643881 &  4.201674 &  9.163862 &  16.069376 \\\\\n",
      "0.6 &  0.441821 &  1.816941 &  3.813231 &  9.104874 &  17.500542 \\\\\n",
      "0.8 &  0.406073 &  1.561782 &  4.013681 &  8.934394 &  15.571183 \\\\\n",
      "\\bottomrule\n",
      "\\end{tabular}\n",
      "\n",
      "GD Min Uncut\n",
      "\\begin{tabular}{lrrrrr}\n",
      "\\toprule\n",
      "{} &        20  &         40  &         60  &          80  &          100 \\\\\n",
      "\\midrule\n",
      "0.2 &  20.480390 &   96.402211 &  198.108485 &   325.860153 &   517.697193 \\\\\n",
      "0.4 &  45.992434 &  161.016116 &  368.440385 &   648.039157 &  1021.470021 \\\\\n",
      "0.6 &  68.245788 &  243.713372 &  544.725786 &   974.745598 &  1502.220736 \\\\\n",
      "0.8 &  84.892674 &  323.356270 &  714.857894 &  1258.850306 &  1995.363747 \\\\\n",
      "\\bottomrule\n",
      "\\end{tabular}\n",
      "\n",
      "\\begin{tabular}{lrrrrr}\n",
      "\\toprule\n",
      "{} &       20  &       40  &        60  &        80  &        100 \\\\\n",
      "\\midrule\n",
      "0.2 &  1.825647 &  8.452745 &  23.353299 &  41.375080 &  78.893934 \\\\\n",
      "0.4 &  1.559878 &  8.446443 &  24.290554 &  38.089894 &  85.483747 \\\\\n",
      "0.6 &  1.501492 &  8.705670 &  25.692618 &  39.091669 &  86.943622 \\\\\n",
      "0.8 &  1.807911 &  7.605453 &  21.413884 &  37.643582 &  80.052236 \\\\\n",
      "\\bottomrule\n",
      "\\end{tabular}\n",
      "\n"
     ]
    }
   ],
   "source": [
    "print('LP Max-Cut')\n",
    "lp_max_cut_quality = lp_Max_Cut_values\n",
    "lp_max_cut_times = lp_Max_Cut_times\n",
    "print(lp_max_cut_quality.to_latex())\n",
    "print(lp_max_cut_times.to_latex())\n",
    "\n",
    "print('LP Min Uncut')\n",
    "lp_min_uncut_quality = lp_Min_Uncut_values\n",
    "lp_min_uncut_times = lp_Min_Uncut_times\n",
    "print(lp_min_uncut_quality.to_latex())\n",
    "print(lp_min_uncut_times.to_latex())\n",
    "      \n",
    "print('LP Sparsest Cut')\n",
    "lp_sp_cut_quality = lp_sp_Cut_values\n",
    "lp_sp_cut_times = lp_sp_Cut_times\n",
    "print(lp_sp_cut_quality.to_latex())\n",
    "print(lp_sp_cut_times.to_latex())\n",
    "\n",
    "print('Gradient descent results')\n",
    "print('GD Max-Cut')\n",
    "gd_max_cut_quality = gd_Max_Cut_values\n",
    "gd_max_cut_times = gd_Max_Cut_times\n",
    "print(gd_max_cut_quality.to_latex())\n",
    "print(gd_max_cut_times.to_latex())\n",
    "\n",
    "print('GD Min Uncut')\n",
    "gd_min_uncut_quality = gd_Min_Uncut_values\n",
    "gd_min_uncut_times = gd_Min_Uncut_times\n",
    "print(gd_min_uncut_quality.to_latex())\n",
    "print(gd_min_uncut_times.to_latex())\n"
   ]
  },
  {
   "cell_type": "markdown",
   "metadata": {},
   "source": [
    "## Nikita's results"
   ]
  },
  {
   "cell_type": "code",
   "execution_count": 184,
   "metadata": {
    "collapsed": false
   },
   "outputs": [
    {
     "name": "stdout",
     "output_type": "stream",
     "text": [
      "Greedy algorithm\n",
      "Max-Cut\n",
      "\\begin{tabular}{lrrrrr}\n",
      "\\toprule\n",
      "{} &       20  &       40  &       60  &       80  &       100 \\\\\n",
      "\\midrule\n",
      "0.2 &  0.190000 &  0.230000 &  0.208705 &  0.198730 &  0.200000 \\\\\n",
      "0.4 &  0.440000 &  0.393484 &  0.416295 &  0.386364 &  0.416967 \\\\\n",
      "0.6 &  0.703297 &  0.598465 &  0.595982 &  0.601001 &  0.601600 \\\\\n",
      "0.8 &  0.828283 &  0.804688 &  0.786756 &  0.774984 &  0.795918 \\\\\n",
      "\\bottomrule\n",
      "\\end{tabular}\n",
      "\n",
      "\\begin{tabular}{lrrrrr}\n",
      "\\toprule\n",
      "{} &       20  &       40  &       60  &       80  &       100 \\\\\n",
      "\\midrule\n",
      "0.2 &  0.070913 &  0.083236 &  0.146062 &  0.385446 &  0.317414 \\\\\n",
      "0.4 &  0.057796 &  0.080928 &  0.140337 &  0.379452 &  0.446185 \\\\\n",
      "0.6 &  0.046991 &  0.092468 &  0.141134 &  0.294798 &  0.401081 \\\\\n",
      "0.8 &  0.043774 &  0.082179 &  0.151729 &  0.211405 &  0.349521 \\\\\n",
      "\\bottomrule\n",
      "\\end{tabular}\n",
      "\n",
      "Min Uncut\n",
      "\\begin{tabular}{lrrrrr}\n",
      "\\toprule\n",
      "{} &       20  &       40  &       60  &       80  &       100 \\\\\n",
      "\\midrule\n",
      "0.2 &  0.190000 &  0.230000 &  0.208705 &  0.198730 &  0.200000 \\\\\n",
      "0.4 &  0.440000 &  0.393484 &  0.416295 &  0.386364 &  0.416967 \\\\\n",
      "0.6 &  0.703297 &  0.598465 &  0.595982 &  0.601001 &  0.601600 \\\\\n",
      "0.8 &  0.828283 &  0.804688 &  0.786756 &  0.774984 &  0.795918 \\\\\n",
      "\\bottomrule\n",
      "\\end{tabular}\n",
      "\n",
      "\\begin{tabular}{lrrrrr}\n",
      "\\toprule\n",
      "{} &       20  &       40  &       60  &       80  &       100 \\\\\n",
      "\\midrule\n",
      "0.2 &  0.070913 &  0.083236 &  0.146062 &  0.385446 &  0.317414 \\\\\n",
      "0.4 &  0.057796 &  0.080928 &  0.140337 &  0.379452 &  0.446185 \\\\\n",
      "0.6 &  0.046991 &  0.092468 &  0.141134 &  0.294798 &  0.401081 \\\\\n",
      "0.8 &  0.043774 &  0.082179 &  0.151729 &  0.211405 &  0.349521 \\\\\n",
      "\\bottomrule\n",
      "\\end{tabular}\n",
      "\n",
      "Sparsest Cut\n",
      "\\begin{tabular}{lrrrrr}\n",
      "\\toprule\n",
      "{} &       20  &       40  &       60  &       80  &       100 \\\\\n",
      "\\midrule\n",
      "0.2 &  0.190000 &  0.230000 &  0.208705 &  0.198730 &  0.200000 \\\\\n",
      "0.4 &  0.440000 &  0.393484 &  0.416295 &  0.386364 &  0.416967 \\\\\n",
      "0.6 &  0.703297 &  0.598465 &  0.595982 &  0.601001 &  0.601600 \\\\\n",
      "0.8 &  0.828283 &  0.804688 &  0.786756 &  0.774984 &  0.795918 \\\\\n",
      "\\bottomrule\n",
      "\\end{tabular}\n",
      "\n",
      "\\begin{tabular}{lrrrrr}\n",
      "\\toprule\n",
      "{} &       20  &       40  &       60  &       80  &       100 \\\\\n",
      "\\midrule\n",
      "0.2 &  0.070913 &  0.083236 &  0.146062 &  0.385446 &  0.317414 \\\\\n",
      "0.4 &  0.057796 &  0.080928 &  0.140337 &  0.379452 &  0.446185 \\\\\n",
      "0.6 &  0.046991 &  0.092468 &  0.141134 &  0.294798 &  0.401081 \\\\\n",
      "0.8 &  0.043774 &  0.082179 &  0.151729 &  0.211405 &  0.349521 \\\\\n",
      "\\bottomrule\n",
      "\\end{tabular}\n",
      "\n",
      "IPM Max-Cut\n",
      "\\begin{tabular}{lrrrrr}\n",
      "\\toprule\n",
      "{} &        20  &         40  &         60  &          80  &          100 \\\\\n",
      "\\midrule\n",
      "0.2 &  29.431985 &  130.136680 &  262.247324 &   430.746212 &   669.126500 \\\\\n",
      "0.4 &  60.290311 &  203.679575 &  458.278031 &   782.888673 &  1214.670964 \\\\\n",
      "0.6 &  81.155238 &  288.514040 &  631.286104 &  1108.967455 &  1702.195427 \\\\\n",
      "0.8 &  95.364342 &  359.052341 &  787.590013 &  1376.766224 &  2159.518003 \\\\\n",
      "\\bottomrule\n",
      "\\end{tabular}\n",
      "\n",
      "\\begin{tabular}{lrrrrr}\n",
      "\\toprule\n",
      "{} &       20  &        40  &        60  &         80  &         100 \\\\\n",
      "\\midrule\n",
      "0.2 &  7.433283 &  21.958996 &  50.476675 &  118.892647 &  219.795809 \\\\\n",
      "0.4 &  7.876525 &  24.343558 &  49.547392 &  119.840315 &  193.288305 \\\\\n",
      "0.6 &  7.009986 &  25.542976 &  49.774089 &  109.004840 &  212.017449 \\\\\n",
      "0.8 &  6.606875 &  24.981019 &  48.753915 &  113.483592 &  235.657828 \\\\\n",
      "\\bottomrule\n",
      "\\end{tabular}\n",
      "\n",
      "l2 Sparsest Cut\n",
      "\\begin{tabular}{lrrrrr}\n",
      "\\toprule\n",
      "{} &        20  &        40  &        60  &        80  &        100 \\\\\n",
      "\\midrule\n",
      "0.2 &   3.182472 &   8.727526 &  12.279557 &  15.332464 &  19.742617 \\\\\n",
      "0.4 &   7.930657 &  15.106098 &  23.551765 &  31.376674 &  39.832258 \\\\\n",
      "0.6 &  12.241216 &  23.328865 &  35.260274 &  47.677462 &  59.029584 \\\\\n",
      "0.8 &  15.473328 &  31.254667 &  46.571091 &  61.856257 &  78.729749 \\\\\n",
      "\\bottomrule\n",
      "\\end{tabular}\n",
      "\n",
      "\\begin{tabular}{lrrrrr}\n",
      "\\toprule\n",
      "{} &       20  &       40  &       60  &       80  &        100 \\\\\n",
      "\\midrule\n",
      "0.2 &  0.156529 &  0.762021 &  3.032832 &  7.277937 &  13.798227 \\\\\n",
      "0.4 &  0.132919 &  0.771237 &  2.990910 &  6.944147 &  14.230462 \\\\\n",
      "0.6 &  0.135523 &  0.781156 &  2.912829 &  7.215524 &  15.103758 \\\\\n",
      "0.8 &  0.128842 &  0.819107 &  3.443282 &  7.230506 &  13.938156 \\\\\n",
      "\\bottomrule\n",
      "\\end{tabular}\n",
      "\n"
     ]
    }
   ],
   "source": [
    "print('Greedy algorithm')\n",
    "print('Max-Cut')\n",
    "gr_max_cut_quality = mc_greedy_values\n",
    "gr_max_cut_times = mc_greedy_times\n",
    "print(gr_max_cut_quality.to_latex())\n",
    "print(gr_max_cut_times.to_latex())\n",
    "\n",
    "print('Min Uncut')\n",
    "gr_min_uncut_quality = muc_greedy_values\n",
    "gr_min_uncut_times = muc_greedy_times\n",
    "print(gr_min_uncut_quality.to_latex())\n",
    "print(gr_min_uncut_times.to_latex())\n",
    "      \n",
    "print('Sparsest Cut')\n",
    "gr_sp_cut_quality = sc_greedy_values\n",
    "gr_sp_cut_times = sc_greedy_times\n",
    "print(gr_sp_cut_quality.to_latex())\n",
    "print(gr_sp_cut_times.to_latex())\n",
    "\n",
    "\n",
    "print('IPM Max-Cut')\n",
    "ipm_max_cut_quality = ipm_values\n",
    "ipm_max_cut_times = ipm_times\n",
    "print(ipm_max_cut_quality.to_latex())\n",
    "print(ipm_max_cut_times.to_latex())\n",
    "\n",
    "print('l2 Sparsest Cut')\n",
    "l2_sp_cut_quality = l2_sp_cut_values\n",
    "l2_sp_cut_times = l2_sp_cut_times\n",
    "print(l2_sp_cut_quality.to_latex())\n",
    "print(l2_sp_cut_times.to_latex())"
   ]
  },
  {
   "cell_type": "code",
   "execution_count": null,
   "metadata": {
    "collapsed": true
   },
   "outputs": [],
   "source": []
  }
 ],
 "metadata": {
  "kernelspec": {
   "display_name": "Python 3",
   "language": "python",
   "name": "python3"
  },
  "language_info": {
   "codemirror_mode": {
    "name": "ipython",
    "version": 3
   },
   "file_extension": ".py",
   "mimetype": "text/x-python",
   "name": "python",
   "nbconvert_exporter": "python",
   "pygments_lexer": "ipython3",
   "version": "3.6.0"
  }
 },
 "nbformat": 4,
 "nbformat_minor": 2
}
